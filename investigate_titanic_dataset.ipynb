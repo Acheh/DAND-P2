{
 "cells": [
  {
   "cell_type": "markdown",
   "metadata": {},
   "source": [
    "# Investigate A Dataset: Titanic Data Analysis\n",
    "\n",
    "\n",
    "### Introduction\n",
    "\n",
    "The purpose of this project is to perform analysis on a dataset containing demographic and passenger information of the RMS Titanic and to find likely factors that affect a passenger's chance in surviving the sinking ship. More information regarding the dataset can be found at https://www.kaggle.com/c/titanic.\n",
    "\n",
    "#### Data Dictionary\n",
    "\n",
    "Taken from https://www.kaggle.com/c/titanic/data.\n",
    "\n",
    "\n",
    "Variable      | Definition                                | Key\n",
    "------------- | ------------------------------------------|------------------------------------------------\n",
    "survival      | Survival                                  | 0 = No, 1 = Yes\n",
    "pclass        | Ticket Class                              | 1 = 1st, 2 = 2nd, 3 = 3rd\n",
    "sex           | Sex                                       |\n",
    "Age           | Age in years                              |\n",
    "sibsp         | # of siblings/spouses aboard the Titanic  |\n",
    "parch         | # of parents/children aboard the Titanic  |\n",
    "ticket        | Ticket number                             |\n",
    "fare          | Passanger fare                            |\n",
    "cabin         | Cabin number                              |\n",
    "embarked      | Port of Embarkation                       | C = Cherbourg, Q = Queenstown, S = Southampton\n",
    "\n",
    "Notes:\n",
    "* pclass is aproxy for socio-economic status (SES) \n",
    "o 1st = Upper\n",
    "o 2nd = Middle\n",
    "o 3rd = Lower\n",
    "* Age is fractional if less than 1. If the age is estimated, it is in the form of xx.5\n",
    "* sibsp defines sibling (brother, sister, stepbrother, stepsister) and spouse (husband, wife)\n",
    "* parch defines parent (mother, father) and child (daughter, son, stepdaughter, stepson)\n",
    "* Some children travelled only with a nanny, therefore parch=0 for them.\n",
    "\n",
    "\n",
    "# Question\n",
    "\n",
    "The main question that I want to answer is which characteristics of a Titanic passenger affect the passenger's chance of survival.  \n",
    "\n",
    "To answer that question, I've decided to focus on few characteristics that I'll explore using questions below:\n",
    "1. Did female passanger have a better chance of survival than male?\n",
    "2. Did socio-economic status count as a factor in survival rate?  \n",
    "3. Did traveling alone (without family members: parents, spouse, children, or siblings) give a passanger a better chance at survival?\n",
    "4. Did children (18 year-old or younger) have a better chance of survival? \n",
    "\n",
    "# Data Wrangling\n",
    "\n",
    "## Data Acquisition\n",
    "\n",
    "The dataset was provided in a csv file format as part of project material.  \n",
    "\n",
    "Now let's set up IPython Notebook by importing all necessary modules. We'll also need to set matplotlib to render plots inline for better viewing.  "
   ]
  },
  {
   "cell_type": "code",
   "execution_count": 222,
   "metadata": {
    "collapsed": true
   },
   "outputs": [],
   "source": [
    "# import necessary libraries\n",
    "import pandas as pd\n",
    "import numpy as np\n",
    "import matplotlib.pyplot as plt\n",
    "import seaborn as sns\n",
    "from scipy.stats import chi2_contingency\n",
    "\n",
    "# set matplotlib to render plots inline\n",
    "%matplotlib inline"
   ]
  },
  {
   "cell_type": "markdown",
   "metadata": {},
   "source": [
    "Now let read the dataset and store it into a Pandas DataFrame"
   ]
  },
  {
   "cell_type": "code",
   "execution_count": 223,
   "metadata": {
    "collapsed": true
   },
   "outputs": [],
   "source": [
    "# read and store CSV dataset into pandas dataframe\n",
    "titanic_df = pd.read_csv('titanic-data.csv')"
   ]
  },
  {
   "cell_type": "markdown",
   "metadata": {
    "collapsed": false
   },
   "source": [
    "Now let's see what we have."
   ]
  },
  {
   "cell_type": "code",
   "execution_count": 224,
   "metadata": {
    "collapsed": false
   },
   "outputs": [
    {
     "name": "stdout",
     "output_type": "stream",
     "text": [
      "<class 'pandas.core.frame.DataFrame'>\n",
      "RangeIndex: 891 entries, 0 to 890\n",
      "Data columns (total 12 columns):\n",
      "PassengerId    891 non-null int64\n",
      "Survived       891 non-null int64\n",
      "Pclass         891 non-null int64\n",
      "Name           891 non-null object\n",
      "Sex            891 non-null object\n",
      "Age            714 non-null float64\n",
      "SibSp          891 non-null int64\n",
      "Parch          891 non-null int64\n",
      "Ticket         891 non-null object\n",
      "Fare           891 non-null float64\n",
      "Cabin          204 non-null object\n",
      "Embarked       889 non-null object\n",
      "dtypes: float64(2), int64(5), object(5)\n",
      "memory usage: 83.6+ KB\n"
     ]
    }
   ],
   "source": [
    "# display dataframe info\n",
    "titanic_df.info()"
   ]
  },
  {
   "cell_type": "markdown",
   "metadata": {},
   "source": [
    "Notice that we have 891 entries in the data set and it looks like most columns have complete entries and only 3 columns have some missing values. Those columns with missing values are Age, Cabin, and Embark, with most missing values appear in Cabin. It does also look like all people in the dataset were passengers (not crew members) of the Titanic because they all paid fare and got a ticket. This is important to note because we just want to see survival chance of passengers and not of crew members. Therefore, we don't want to have crew data in our dataset that can lead to misinterpretation.\n",
    "\n",
    "Now let's see the first and last few entries in the dataset."
   ]
  },
  {
   "cell_type": "code",
   "execution_count": 225,
   "metadata": {
    "collapsed": false
   },
   "outputs": [
    {
     "data": {
      "text/html": [
       "<div>\n",
       "<table border=\"1\" class=\"dataframe\">\n",
       "  <thead>\n",
       "    <tr style=\"text-align: right;\">\n",
       "      <th></th>\n",
       "      <th>PassengerId</th>\n",
       "      <th>Survived</th>\n",
       "      <th>Pclass</th>\n",
       "      <th>Name</th>\n",
       "      <th>Sex</th>\n",
       "      <th>Age</th>\n",
       "      <th>SibSp</th>\n",
       "      <th>Parch</th>\n",
       "      <th>Ticket</th>\n",
       "      <th>Fare</th>\n",
       "      <th>Cabin</th>\n",
       "      <th>Embarked</th>\n",
       "    </tr>\n",
       "  </thead>\n",
       "  <tbody>\n",
       "    <tr>\n",
       "      <th>0</th>\n",
       "      <td>1</td>\n",
       "      <td>0</td>\n",
       "      <td>3</td>\n",
       "      <td>Braund, Mr. Owen Harris</td>\n",
       "      <td>male</td>\n",
       "      <td>22.0</td>\n",
       "      <td>1</td>\n",
       "      <td>0</td>\n",
       "      <td>A/5 21171</td>\n",
       "      <td>7.2500</td>\n",
       "      <td>NaN</td>\n",
       "      <td>S</td>\n",
       "    </tr>\n",
       "    <tr>\n",
       "      <th>1</th>\n",
       "      <td>2</td>\n",
       "      <td>1</td>\n",
       "      <td>1</td>\n",
       "      <td>Cumings, Mrs. John Bradley (Florence Briggs Th...</td>\n",
       "      <td>female</td>\n",
       "      <td>38.0</td>\n",
       "      <td>1</td>\n",
       "      <td>0</td>\n",
       "      <td>PC 17599</td>\n",
       "      <td>71.2833</td>\n",
       "      <td>C85</td>\n",
       "      <td>C</td>\n",
       "    </tr>\n",
       "    <tr>\n",
       "      <th>2</th>\n",
       "      <td>3</td>\n",
       "      <td>1</td>\n",
       "      <td>3</td>\n",
       "      <td>Heikkinen, Miss. Laina</td>\n",
       "      <td>female</td>\n",
       "      <td>26.0</td>\n",
       "      <td>0</td>\n",
       "      <td>0</td>\n",
       "      <td>STON/O2. 3101282</td>\n",
       "      <td>7.9250</td>\n",
       "      <td>NaN</td>\n",
       "      <td>S</td>\n",
       "    </tr>\n",
       "    <tr>\n",
       "      <th>3</th>\n",
       "      <td>4</td>\n",
       "      <td>1</td>\n",
       "      <td>1</td>\n",
       "      <td>Futrelle, Mrs. Jacques Heath (Lily May Peel)</td>\n",
       "      <td>female</td>\n",
       "      <td>35.0</td>\n",
       "      <td>1</td>\n",
       "      <td>0</td>\n",
       "      <td>113803</td>\n",
       "      <td>53.1000</td>\n",
       "      <td>C123</td>\n",
       "      <td>S</td>\n",
       "    </tr>\n",
       "    <tr>\n",
       "      <th>4</th>\n",
       "      <td>5</td>\n",
       "      <td>0</td>\n",
       "      <td>3</td>\n",
       "      <td>Allen, Mr. William Henry</td>\n",
       "      <td>male</td>\n",
       "      <td>35.0</td>\n",
       "      <td>0</td>\n",
       "      <td>0</td>\n",
       "      <td>373450</td>\n",
       "      <td>8.0500</td>\n",
       "      <td>NaN</td>\n",
       "      <td>S</td>\n",
       "    </tr>\n",
       "  </tbody>\n",
       "</table>\n",
       "</div>"
      ],
      "text/plain": [
       "   PassengerId  Survived  Pclass  \\\n",
       "0            1         0       3   \n",
       "1            2         1       1   \n",
       "2            3         1       3   \n",
       "3            4         1       1   \n",
       "4            5         0       3   \n",
       "\n",
       "                                                Name     Sex   Age  SibSp  \\\n",
       "0                            Braund, Mr. Owen Harris    male  22.0      1   \n",
       "1  Cumings, Mrs. John Bradley (Florence Briggs Th...  female  38.0      1   \n",
       "2                             Heikkinen, Miss. Laina  female  26.0      0   \n",
       "3       Futrelle, Mrs. Jacques Heath (Lily May Peel)  female  35.0      1   \n",
       "4                           Allen, Mr. William Henry    male  35.0      0   \n",
       "\n",
       "   Parch            Ticket     Fare Cabin Embarked  \n",
       "0      0         A/5 21171   7.2500   NaN        S  \n",
       "1      0          PC 17599  71.2833   C85        C  \n",
       "2      0  STON/O2. 3101282   7.9250   NaN        S  \n",
       "3      0            113803  53.1000  C123        S  \n",
       "4      0            373450   8.0500   NaN        S  "
      ]
     },
     "execution_count": 225,
     "metadata": {},
     "output_type": "execute_result"
    }
   ],
   "source": [
    "# display first few records to review data format and value\n",
    "titanic_df.head(n=5)"
   ]
  },
  {
   "cell_type": "code",
   "execution_count": 226,
   "metadata": {
    "collapsed": false,
    "scrolled": true
   },
   "outputs": [
    {
     "data": {
      "text/html": [
       "<div>\n",
       "<table border=\"1\" class=\"dataframe\">\n",
       "  <thead>\n",
       "    <tr style=\"text-align: right;\">\n",
       "      <th></th>\n",
       "      <th>PassengerId</th>\n",
       "      <th>Survived</th>\n",
       "      <th>Pclass</th>\n",
       "      <th>Name</th>\n",
       "      <th>Sex</th>\n",
       "      <th>Age</th>\n",
       "      <th>SibSp</th>\n",
       "      <th>Parch</th>\n",
       "      <th>Ticket</th>\n",
       "      <th>Fare</th>\n",
       "      <th>Cabin</th>\n",
       "      <th>Embarked</th>\n",
       "    </tr>\n",
       "  </thead>\n",
       "  <tbody>\n",
       "    <tr>\n",
       "      <th>886</th>\n",
       "      <td>887</td>\n",
       "      <td>0</td>\n",
       "      <td>2</td>\n",
       "      <td>Montvila, Rev. Juozas</td>\n",
       "      <td>male</td>\n",
       "      <td>27.0</td>\n",
       "      <td>0</td>\n",
       "      <td>0</td>\n",
       "      <td>211536</td>\n",
       "      <td>13.00</td>\n",
       "      <td>NaN</td>\n",
       "      <td>S</td>\n",
       "    </tr>\n",
       "    <tr>\n",
       "      <th>887</th>\n",
       "      <td>888</td>\n",
       "      <td>1</td>\n",
       "      <td>1</td>\n",
       "      <td>Graham, Miss. Margaret Edith</td>\n",
       "      <td>female</td>\n",
       "      <td>19.0</td>\n",
       "      <td>0</td>\n",
       "      <td>0</td>\n",
       "      <td>112053</td>\n",
       "      <td>30.00</td>\n",
       "      <td>B42</td>\n",
       "      <td>S</td>\n",
       "    </tr>\n",
       "    <tr>\n",
       "      <th>888</th>\n",
       "      <td>889</td>\n",
       "      <td>0</td>\n",
       "      <td>3</td>\n",
       "      <td>Johnston, Miss. Catherine Helen \"Carrie\"</td>\n",
       "      <td>female</td>\n",
       "      <td>NaN</td>\n",
       "      <td>1</td>\n",
       "      <td>2</td>\n",
       "      <td>W./C. 6607</td>\n",
       "      <td>23.45</td>\n",
       "      <td>NaN</td>\n",
       "      <td>S</td>\n",
       "    </tr>\n",
       "    <tr>\n",
       "      <th>889</th>\n",
       "      <td>890</td>\n",
       "      <td>1</td>\n",
       "      <td>1</td>\n",
       "      <td>Behr, Mr. Karl Howell</td>\n",
       "      <td>male</td>\n",
       "      <td>26.0</td>\n",
       "      <td>0</td>\n",
       "      <td>0</td>\n",
       "      <td>111369</td>\n",
       "      <td>30.00</td>\n",
       "      <td>C148</td>\n",
       "      <td>C</td>\n",
       "    </tr>\n",
       "    <tr>\n",
       "      <th>890</th>\n",
       "      <td>891</td>\n",
       "      <td>0</td>\n",
       "      <td>3</td>\n",
       "      <td>Dooley, Mr. Patrick</td>\n",
       "      <td>male</td>\n",
       "      <td>32.0</td>\n",
       "      <td>0</td>\n",
       "      <td>0</td>\n",
       "      <td>370376</td>\n",
       "      <td>7.75</td>\n",
       "      <td>NaN</td>\n",
       "      <td>Q</td>\n",
       "    </tr>\n",
       "  </tbody>\n",
       "</table>\n",
       "</div>"
      ],
      "text/plain": [
       "     PassengerId  Survived  Pclass                                      Name  \\\n",
       "886          887         0       2                     Montvila, Rev. Juozas   \n",
       "887          888         1       1              Graham, Miss. Margaret Edith   \n",
       "888          889         0       3  Johnston, Miss. Catherine Helen \"Carrie\"   \n",
       "889          890         1       1                     Behr, Mr. Karl Howell   \n",
       "890          891         0       3                       Dooley, Mr. Patrick   \n",
       "\n",
       "        Sex   Age  SibSp  Parch      Ticket   Fare Cabin Embarked  \n",
       "886    male  27.0      0      0      211536  13.00   NaN        S  \n",
       "887  female  19.0      0      0      112053  30.00   B42        S  \n",
       "888  female   NaN      1      2  W./C. 6607  23.45   NaN        S  \n",
       "889    male  26.0      0      0      111369  30.00  C148        C  \n",
       "890    male  32.0      0      0      370376   7.75   NaN        Q  "
      ]
     },
     "execution_count": 226,
     "metadata": {},
     "output_type": "execute_result"
    }
   ],
   "source": [
    "# display last few records to review data format and value\n",
    "titanic_df.tail(n=5)"
   ]
  },
  {
   "cell_type": "markdown",
   "metadata": {},
   "source": [
    "Notice that some values are indeed missing (NaN) for Age, which can be problematic when we try to answer question # 4. Some values are also missing for Cabin, though this one won't be a problem since we wouldn't need Cabin data to answer those questions mentioned above. \n",
    "\n",
    "Some columns are not relevant to our questions (i.e. PassangerId, Name, Ticket, Fare, Cabin and Embarked), and we better remove them to unclutter the data. Some other columns are not direct subjects of our investigation (i.e. SibSp and Parch). We need to manipulate those columns to directly represent a variable that we want to investigate. \n",
    "\n",
    "To answer question # 3, we need to know whether a passanger was traveling alone (without family members) but we don't have a column showing that information. However, we can easily get it from column SibSp and Parch. If SibSp + Parch is zero, then the passanger must traveling alone. It is worth to take a note here that a stepchild as well as a stepsibling counted as family members.\n",
    "\n",
    "Now, let's start cleaning the dataset.\n",
    "\n",
    "## Data Cleaning\n",
    "\n",
    "Here's what we're going to do:\n",
    "1. Check for and remove duplicates.\n",
    "2. Remove unnecessary columns.\n",
    "3. Convert SibSp and Parch columns into Talone (traveling alone) column, remove unnecessary columns.\n",
    "4. Check for incorrect and missing values, and map data values when necessary.\n",
    "\n",
    "So let's roll.\n",
    "\n",
    "#### 1. Removing Duplicate Entry"
   ]
  },
  {
   "cell_type": "code",
   "execution_count": 227,
   "metadata": {
    "collapsed": false,
    "scrolled": true
   },
   "outputs": [
    {
     "name": "stdout",
     "output_type": "stream",
     "text": [
      "Number of duplicate entry = 0\n"
     ]
    }
   ],
   "source": [
    "# display the number of duplicate entries\n",
    "print \"Number of duplicate entry = {}\".format(titanic_df.duplicated().sum())"
   ]
  },
  {
   "cell_type": "markdown",
   "metadata": {},
   "source": [
    "We don't have any duplicate entry. Great, now let's move on\n",
    "\n",
    "#### 2. Removing Unnecessary Columns"
   ]
  },
  {
   "cell_type": "code",
   "execution_count": 228,
   "metadata": {
    "collapsed": false,
    "scrolled": false
   },
   "outputs": [
    {
     "data": {
      "text/html": [
       "<div>\n",
       "<table border=\"1\" class=\"dataframe\">\n",
       "  <thead>\n",
       "    <tr style=\"text-align: right;\">\n",
       "      <th></th>\n",
       "      <th>Survived</th>\n",
       "      <th>Pclass</th>\n",
       "      <th>Sex</th>\n",
       "      <th>Age</th>\n",
       "      <th>SibSp</th>\n",
       "      <th>Parch</th>\n",
       "    </tr>\n",
       "  </thead>\n",
       "  <tbody>\n",
       "    <tr>\n",
       "      <th>0</th>\n",
       "      <td>0</td>\n",
       "      <td>3</td>\n",
       "      <td>male</td>\n",
       "      <td>22.0</td>\n",
       "      <td>1</td>\n",
       "      <td>0</td>\n",
       "    </tr>\n",
       "    <tr>\n",
       "      <th>1</th>\n",
       "      <td>1</td>\n",
       "      <td>1</td>\n",
       "      <td>female</td>\n",
       "      <td>38.0</td>\n",
       "      <td>1</td>\n",
       "      <td>0</td>\n",
       "    </tr>\n",
       "    <tr>\n",
       "      <th>2</th>\n",
       "      <td>1</td>\n",
       "      <td>3</td>\n",
       "      <td>female</td>\n",
       "      <td>26.0</td>\n",
       "      <td>0</td>\n",
       "      <td>0</td>\n",
       "    </tr>\n",
       "    <tr>\n",
       "      <th>3</th>\n",
       "      <td>1</td>\n",
       "      <td>1</td>\n",
       "      <td>female</td>\n",
       "      <td>35.0</td>\n",
       "      <td>1</td>\n",
       "      <td>0</td>\n",
       "    </tr>\n",
       "    <tr>\n",
       "      <th>4</th>\n",
       "      <td>0</td>\n",
       "      <td>3</td>\n",
       "      <td>male</td>\n",
       "      <td>35.0</td>\n",
       "      <td>0</td>\n",
       "      <td>0</td>\n",
       "    </tr>\n",
       "  </tbody>\n",
       "</table>\n",
       "</div>"
      ],
      "text/plain": [
       "   Survived  Pclass     Sex   Age  SibSp  Parch\n",
       "0         0       3    male  22.0      1      0\n",
       "1         1       1  female  38.0      1      0\n",
       "2         1       3  female  26.0      0      0\n",
       "3         1       1  female  35.0      1      0\n",
       "4         0       3    male  35.0      0      0"
      ]
     },
     "execution_count": 228,
     "metadata": {},
     "output_type": "execute_result"
    }
   ],
   "source": [
    "# create new dataframe with unnecesssary columns removed\n",
    "cleaned_titanic_df = titanic_df.drop([\"PassengerId\", \"Name\", \"Ticket\", \"Fare\", \"Cabin\", \"Embarked\"], axis=1)\n",
    "\n",
    "# view new dataframe\n",
    "cleaned_titanic_df.head()"
   ]
  },
  {
   "cell_type": "markdown",
   "metadata": {},
   "source": [
    "#### 3. Converting SibSp and Parch into Talone\n",
    "\n",
    "What I want to do here is to have a column named Talone that has a value of either 1 (traveled alone) or 0 (not traveled alone). First I'll create a column that take a value from the sum of SibSp and Parch values. Then, I'll convert the sum to reflect that if it is 0 then the passenger was traveling alone, otherwise the passenger was not traveling alone."
   ]
  },
  {
   "cell_type": "code",
   "execution_count": 229,
   "metadata": {
    "collapsed": false,
    "scrolled": true
   },
   "outputs": [
    {
     "data": {
      "text/html": [
       "<div>\n",
       "<table border=\"1\" class=\"dataframe\">\n",
       "  <thead>\n",
       "    <tr style=\"text-align: right;\">\n",
       "      <th></th>\n",
       "      <th>Survived</th>\n",
       "      <th>Pclass</th>\n",
       "      <th>Sex</th>\n",
       "      <th>Age</th>\n",
       "      <th>SibSp</th>\n",
       "      <th>Parch</th>\n",
       "      <th>Talone</th>\n",
       "    </tr>\n",
       "  </thead>\n",
       "  <tbody>\n",
       "    <tr>\n",
       "      <th>0</th>\n",
       "      <td>0</td>\n",
       "      <td>3</td>\n",
       "      <td>male</td>\n",
       "      <td>22.0</td>\n",
       "      <td>1</td>\n",
       "      <td>0</td>\n",
       "      <td>1</td>\n",
       "    </tr>\n",
       "    <tr>\n",
       "      <th>1</th>\n",
       "      <td>1</td>\n",
       "      <td>1</td>\n",
       "      <td>female</td>\n",
       "      <td>38.0</td>\n",
       "      <td>1</td>\n",
       "      <td>0</td>\n",
       "      <td>1</td>\n",
       "    </tr>\n",
       "    <tr>\n",
       "      <th>2</th>\n",
       "      <td>1</td>\n",
       "      <td>3</td>\n",
       "      <td>female</td>\n",
       "      <td>26.0</td>\n",
       "      <td>0</td>\n",
       "      <td>0</td>\n",
       "      <td>0</td>\n",
       "    </tr>\n",
       "    <tr>\n",
       "      <th>3</th>\n",
       "      <td>1</td>\n",
       "      <td>1</td>\n",
       "      <td>female</td>\n",
       "      <td>35.0</td>\n",
       "      <td>1</td>\n",
       "      <td>0</td>\n",
       "      <td>1</td>\n",
       "    </tr>\n",
       "    <tr>\n",
       "      <th>4</th>\n",
       "      <td>0</td>\n",
       "      <td>3</td>\n",
       "      <td>male</td>\n",
       "      <td>35.0</td>\n",
       "      <td>0</td>\n",
       "      <td>0</td>\n",
       "      <td>0</td>\n",
       "    </tr>\n",
       "    <tr>\n",
       "      <th>5</th>\n",
       "      <td>0</td>\n",
       "      <td>3</td>\n",
       "      <td>male</td>\n",
       "      <td>NaN</td>\n",
       "      <td>0</td>\n",
       "      <td>0</td>\n",
       "      <td>0</td>\n",
       "    </tr>\n",
       "    <tr>\n",
       "      <th>6</th>\n",
       "      <td>0</td>\n",
       "      <td>1</td>\n",
       "      <td>male</td>\n",
       "      <td>54.0</td>\n",
       "      <td>0</td>\n",
       "      <td>0</td>\n",
       "      <td>0</td>\n",
       "    </tr>\n",
       "    <tr>\n",
       "      <th>7</th>\n",
       "      <td>0</td>\n",
       "      <td>3</td>\n",
       "      <td>male</td>\n",
       "      <td>2.0</td>\n",
       "      <td>3</td>\n",
       "      <td>1</td>\n",
       "      <td>4</td>\n",
       "    </tr>\n",
       "    <tr>\n",
       "      <th>8</th>\n",
       "      <td>1</td>\n",
       "      <td>3</td>\n",
       "      <td>female</td>\n",
       "      <td>27.0</td>\n",
       "      <td>0</td>\n",
       "      <td>2</td>\n",
       "      <td>2</td>\n",
       "    </tr>\n",
       "    <tr>\n",
       "      <th>9</th>\n",
       "      <td>1</td>\n",
       "      <td>2</td>\n",
       "      <td>female</td>\n",
       "      <td>14.0</td>\n",
       "      <td>1</td>\n",
       "      <td>0</td>\n",
       "      <td>1</td>\n",
       "    </tr>\n",
       "  </tbody>\n",
       "</table>\n",
       "</div>"
      ],
      "text/plain": [
       "   Survived  Pclass     Sex   Age  SibSp  Parch  Talone\n",
       "0         0       3    male  22.0      1      0       1\n",
       "1         1       1  female  38.0      1      0       1\n",
       "2         1       3  female  26.0      0      0       0\n",
       "3         1       1  female  35.0      1      0       1\n",
       "4         0       3    male  35.0      0      0       0\n",
       "5         0       3    male   NaN      0      0       0\n",
       "6         0       1    male  54.0      0      0       0\n",
       "7         0       3    male   2.0      3      1       4\n",
       "8         1       3  female  27.0      0      2       2\n",
       "9         1       2  female  14.0      1      0       1"
      ]
     },
     "execution_count": 229,
     "metadata": {},
     "output_type": "execute_result"
    }
   ],
   "source": [
    "# add a column named Talone,to reflect the number of familiy member traveling with the passenger\n",
    "cleaned_titanic_df['Talone'] = cleaned_titanic_df.SibSp + cleaned_titanic_df.Parch\n",
    "\n",
    "# display first few entries\n",
    "cleaned_titanic_df.head(10)"
   ]
  },
  {
   "cell_type": "markdown",
   "metadata": {},
   "source": [
    "I'm going to use a lambda function to convert each value of Talone into False or True. Then, check for missing and incorrect values to make sure that I've converted all values correctly."
   ]
  },
  {
   "cell_type": "code",
   "execution_count": 230,
   "metadata": {
    "collapsed": false
   },
   "outputs": [
    {
     "name": "stdout",
     "output_type": "stream",
     "text": [
      "Number of missing values for Talone column = 0\n",
      "Number of incorrect values for Talone column = 0\n"
     ]
    }
   ],
   "source": [
    "# update Talone values by applying a lambda function\n",
    "cleaned_titanic_df['Talone'] = cleaned_titanic_df.Talone.apply(lambda x: False if x > 0 else True)\n",
    "\n",
    "# check whether the update produce any missing values\n",
    "sum_Talone_missing = cleaned_titanic_df.Talone.isnull().sum()\n",
    "\n",
    "# check whether the update produce any incorrect values\n",
    "sum_Talone_incorrect = len(cleaned_titanic_df.Talone)-cleaned_titanic_df.Talone.isin([0,1]).sum()\n",
    "\n",
    "print \"Number of missing values for Talone column = {}\".format(sum_Talone_missing)\n",
    "print \"Number of incorrect values for Talone column = {}\".format(sum_Talone_incorrect)"
   ]
  },
  {
   "cell_type": "markdown",
   "metadata": {},
   "source": [
    "Nice, we have all values correct for Talone column. Now we can remove SibSp, and Parch columns since we don't need them anymore."
   ]
  },
  {
   "cell_type": "code",
   "execution_count": 231,
   "metadata": {
    "collapsed": false,
    "scrolled": false
   },
   "outputs": [
    {
     "data": {
      "text/html": [
       "<div>\n",
       "<table border=\"1\" class=\"dataframe\">\n",
       "  <thead>\n",
       "    <tr style=\"text-align: right;\">\n",
       "      <th></th>\n",
       "      <th>Survived</th>\n",
       "      <th>Pclass</th>\n",
       "      <th>Sex</th>\n",
       "      <th>Age</th>\n",
       "      <th>Talone</th>\n",
       "    </tr>\n",
       "  </thead>\n",
       "  <tbody>\n",
       "    <tr>\n",
       "      <th>0</th>\n",
       "      <td>0</td>\n",
       "      <td>3</td>\n",
       "      <td>male</td>\n",
       "      <td>22.0</td>\n",
       "      <td>False</td>\n",
       "    </tr>\n",
       "    <tr>\n",
       "      <th>1</th>\n",
       "      <td>1</td>\n",
       "      <td>1</td>\n",
       "      <td>female</td>\n",
       "      <td>38.0</td>\n",
       "      <td>False</td>\n",
       "    </tr>\n",
       "    <tr>\n",
       "      <th>2</th>\n",
       "      <td>1</td>\n",
       "      <td>3</td>\n",
       "      <td>female</td>\n",
       "      <td>26.0</td>\n",
       "      <td>True</td>\n",
       "    </tr>\n",
       "    <tr>\n",
       "      <th>3</th>\n",
       "      <td>1</td>\n",
       "      <td>1</td>\n",
       "      <td>female</td>\n",
       "      <td>35.0</td>\n",
       "      <td>False</td>\n",
       "    </tr>\n",
       "    <tr>\n",
       "      <th>4</th>\n",
       "      <td>0</td>\n",
       "      <td>3</td>\n",
       "      <td>male</td>\n",
       "      <td>35.0</td>\n",
       "      <td>True</td>\n",
       "    </tr>\n",
       "    <tr>\n",
       "      <th>5</th>\n",
       "      <td>0</td>\n",
       "      <td>3</td>\n",
       "      <td>male</td>\n",
       "      <td>NaN</td>\n",
       "      <td>True</td>\n",
       "    </tr>\n",
       "    <tr>\n",
       "      <th>6</th>\n",
       "      <td>0</td>\n",
       "      <td>1</td>\n",
       "      <td>male</td>\n",
       "      <td>54.0</td>\n",
       "      <td>True</td>\n",
       "    </tr>\n",
       "    <tr>\n",
       "      <th>7</th>\n",
       "      <td>0</td>\n",
       "      <td>3</td>\n",
       "      <td>male</td>\n",
       "      <td>2.0</td>\n",
       "      <td>False</td>\n",
       "    </tr>\n",
       "    <tr>\n",
       "      <th>8</th>\n",
       "      <td>1</td>\n",
       "      <td>3</td>\n",
       "      <td>female</td>\n",
       "      <td>27.0</td>\n",
       "      <td>False</td>\n",
       "    </tr>\n",
       "    <tr>\n",
       "      <th>9</th>\n",
       "      <td>1</td>\n",
       "      <td>2</td>\n",
       "      <td>female</td>\n",
       "      <td>14.0</td>\n",
       "      <td>False</td>\n",
       "    </tr>\n",
       "  </tbody>\n",
       "</table>\n",
       "</div>"
      ],
      "text/plain": [
       "   Survived  Pclass     Sex   Age Talone\n",
       "0         0       3    male  22.0  False\n",
       "1         1       1  female  38.0  False\n",
       "2         1       3  female  26.0   True\n",
       "3         1       1  female  35.0  False\n",
       "4         0       3    male  35.0   True\n",
       "5         0       3    male   NaN   True\n",
       "6         0       1    male  54.0   True\n",
       "7         0       3    male   2.0  False\n",
       "8         1       3  female  27.0  False\n",
       "9         1       2  female  14.0  False"
      ]
     },
     "execution_count": 231,
     "metadata": {},
     "output_type": "execute_result"
    }
   ],
   "source": [
    "# remove unnecessary columns\n",
    "cleaned_titanic_df = cleaned_titanic_df.drop([\"SibSp\", \"Parch\"], axis=1)\n",
    "\n",
    "# display first few entries\n",
    "cleaned_titanic_df.head(n=10)"
   ]
  },
  {
   "cell_type": "markdown",
   "metadata": {},
   "source": [
    "#### 4. Checking For Incorrect and Missing Values\n",
    "\n",
    "To save ourselves from typing repetitive codes, let's define a few helper functions"
   ]
  },
  {
   "cell_type": "code",
   "execution_count": 232,
   "metadata": {
    "collapsed": false,
    "scrolled": true
   },
   "outputs": [],
   "source": [
    "# draw bar graph for the input column\n",
    "def cleaned_titanic_bargraph(col_name):\n",
    "    \"\"\"\n",
    "    Args:\n",
    "        col_name: column to use\n",
    "    \"\"\"\n",
    "    # plot the bar graph\n",
    "    g = cleaned_titanic_df.groupby([col_name]).size().plot(kind='bar', rot =0)\n",
    "    \n",
    "    # set the title\n",
    "    g.axes.set_title('{} Distribution of Titanic Passanger in Dataset'.format(col_name))\n",
    "    \n",
    "    # set the y label\n",
    "    g.axes.set_ylabel('No. of Passengers')\n",
    "\n",
    "# display the distribution of data in a column\n",
    "def cleaned_titanic_dist(col_name):\n",
    "    \"\"\"\n",
    "    Args:\n",
    "        col_name: column to use\n",
    "    Returns:\n",
    "        pandas dataframe consists of count and percentage of each value in the column\n",
    "    \"\"\"\n",
    "    \n",
    "    # display missing values\n",
    "    print 'Number of missing values: {}'.format(cleaned_titanic_df[col_name].isnull().sum())\n",
    "    \n",
    "    # values count\n",
    "    count = cleaned_titanic_df.groupby([col_name]).size() \n",
    "    \n",
    "    # values percentage\n",
    "    percentage = count.groupby(level=0).apply(lambda x: (100*x/count.sum()).round(1))\n",
    "    \n",
    "    # store in a panda dataframe\n",
    "    df = pd.DataFrame(data={col_name:count.keys(),'count':count, 'percentage':percentage})\n",
    "    \n",
    "    return df.set_index(col_name)"
   ]
  },
  {
   "cell_type": "markdown",
   "metadata": {},
   "source": [
    "##### Survived"
   ]
  },
  {
   "cell_type": "markdown",
   "metadata": {},
   "source": [
    "Since Survived column currently takes 0 for non-survivors and 1 for survival, then we will change the value to False and True respectively, for better interpretation of data values."
   ]
  },
  {
   "cell_type": "code",
   "execution_count": 233,
   "metadata": {
    "collapsed": true
   },
   "outputs": [],
   "source": [
    "# update Survived values to True or False\n",
    "cleaned_titanic_df['Survived'] = cleaned_titanic_df.Survived.apply(lambda x: False if x == 0 else True)"
   ]
  },
  {
   "cell_type": "code",
   "execution_count": 234,
   "metadata": {
    "collapsed": false,
    "scrolled": false
   },
   "outputs": [
    {
     "name": "stdout",
     "output_type": "stream",
     "text": [
      "Number of missing values: 0\n"
     ]
    },
    {
     "data": {
      "text/html": [
       "<div>\n",
       "<table border=\"1\" class=\"dataframe\">\n",
       "  <thead>\n",
       "    <tr style=\"text-align: right;\">\n",
       "      <th></th>\n",
       "      <th>count</th>\n",
       "      <th>percentage</th>\n",
       "    </tr>\n",
       "    <tr>\n",
       "      <th>Survived</th>\n",
       "      <th></th>\n",
       "      <th></th>\n",
       "    </tr>\n",
       "  </thead>\n",
       "  <tbody>\n",
       "    <tr>\n",
       "      <th>False</th>\n",
       "      <td>549</td>\n",
       "      <td>61.6</td>\n",
       "    </tr>\n",
       "    <tr>\n",
       "      <th>True</th>\n",
       "      <td>342</td>\n",
       "      <td>38.4</td>\n",
       "    </tr>\n",
       "  </tbody>\n",
       "</table>\n",
       "</div>"
      ],
      "text/plain": [
       "          count  percentage\n",
       "Survived                   \n",
       "False       549        61.6\n",
       "True        342        38.4"
      ]
     },
     "execution_count": 234,
     "metadata": {},
     "output_type": "execute_result"
    },
    {
     "data": {
      "image/png": "[encoded data removed]",
      "text/plain": [
       "<matplotlib.figure.Figure at 0xcd55358>"
      ]
     },
     "metadata": {},
     "output_type": "display_data"
    }
   ],
   "source": [
    "cleaned_titanic_bargraph('Survived')\n",
    "cleaned_titanic_dist('Survived')"
   ]
  },
  {
   "cell_type": "markdown",
   "metadata": {},
   "source": [
    "There's no incorrect and no missing values in Survived column. The numbers show that only 38.4% passangers in the dataset survived the tragedy."
   ]
  },
  {
   "cell_type": "markdown",
   "metadata": {},
   "source": [
    "##### Pclass"
   ]
  },
  {
   "cell_type": "code",
   "execution_count": 235,
   "metadata": {
    "collapsed": false
   },
   "outputs": [
    {
     "name": "stdout",
     "output_type": "stream",
     "text": [
      "Number of missing values: 0\n"
     ]
    },
    {
     "data": {
      "text/html": [
       "<div>\n",
       "<table border=\"1\" class=\"dataframe\">\n",
       "  <thead>\n",
       "    <tr style=\"text-align: right;\">\n",
       "      <th></th>\n",
       "      <th>count</th>\n",
       "      <th>percentage</th>\n",
       "    </tr>\n",
       "    <tr>\n",
       "      <th>Pclass</th>\n",
       "      <th></th>\n",
       "      <th></th>\n",
       "    </tr>\n",
       "  </thead>\n",
       "  <tbody>\n",
       "    <tr>\n",
       "      <th>1</th>\n",
       "      <td>216</td>\n",
       "      <td>24.2</td>\n",
       "    </tr>\n",
       "    <tr>\n",
       "      <th>2</th>\n",
       "      <td>184</td>\n",
       "      <td>20.7</td>\n",
       "    </tr>\n",
       "    <tr>\n",
       "      <th>3</th>\n",
       "      <td>491</td>\n",
       "      <td>55.1</td>\n",
       "    </tr>\n",
       "  </tbody>\n",
       "</table>\n",
       "</div>"
      ],
      "text/plain": [
       "        count  percentage\n",
       "Pclass                   \n",
       "1         216        24.2\n",
       "2         184        20.7\n",
       "3         491        55.1"
      ]
     },
     "execution_count": 235,
     "metadata": {},
     "output_type": "execute_result"
    },
    {
     "data": {
      "image/png": "[encoded data removed]",
      "text/plain": [
       "<matplotlib.figure.Figure at 0xc686630>"
      ]
     },
     "metadata": {},
     "output_type": "display_data"
    }
   ],
   "source": [
    "cleaned_titanic_bargraph('Pclass')\n",
    "cleaned_titanic_dist('Pclass')"
   ]
  },
  {
   "cell_type": "markdown",
   "metadata": {},
   "source": [
    "There's no incorrect and no missing values in Pclass column. The numbers show that most passengers (55.1%) in the dataset were from 3rd class."
   ]
  },
  {
   "cell_type": "markdown",
   "metadata": {},
   "source": [
    "##### Sex"
   ]
  },
  {
   "cell_type": "code",
   "execution_count": 236,
   "metadata": {
    "collapsed": false,
    "scrolled": false
   },
   "outputs": [
    {
     "name": "stdout",
     "output_type": "stream",
     "text": [
      "Number of missing values: 0\n"
     ]
    },
    {
     "data": {
      "text/html": [
       "<div>\n",
       "<table border=\"1\" class=\"dataframe\">\n",
       "  <thead>\n",
       "    <tr style=\"text-align: right;\">\n",
       "      <th></th>\n",
       "      <th>count</th>\n",
       "      <th>percentage</th>\n",
       "    </tr>\n",
       "    <tr>\n",
       "      <th>Sex</th>\n",
       "      <th></th>\n",
       "      <th></th>\n",
       "    </tr>\n",
       "  </thead>\n",
       "  <tbody>\n",
       "    <tr>\n",
       "      <th>female</th>\n",
       "      <td>314</td>\n",
       "      <td>35.2</td>\n",
       "    </tr>\n",
       "    <tr>\n",
       "      <th>male</th>\n",
       "      <td>577</td>\n",
       "      <td>64.8</td>\n",
       "    </tr>\n",
       "  </tbody>\n",
       "</table>\n",
       "</div>"
      ],
      "text/plain": [
       "        count  percentage\n",
       "Sex                      \n",
       "female    314        35.2\n",
       "male      577        64.8"
      ]
     },
     "execution_count": 236,
     "metadata": {},
     "output_type": "execute_result"
    },
    {
     "data": {
      "image/png": "[encoded data removed]",
      "text/plain": [
       "<matplotlib.figure.Figure at 0xc7e1390>"
      ]
     },
     "metadata": {},
     "output_type": "display_data"
    }
   ],
   "source": [
    "cleaned_titanic_bargraph('Sex')\n",
    "cleaned_titanic_dist('Sex')"
   ]
  },
  {
   "cell_type": "markdown",
   "metadata": {},
   "source": [
    "There's no incorrect and no missing values in Sex column. The numbers show that most passengers in the dataset (64.8%) are males, and only 35.2% of them are females."
   ]
  },
  {
   "cell_type": "markdown",
   "metadata": {},
   "source": [
    "##### Age"
   ]
  },
  {
   "cell_type": "markdown",
   "metadata": {},
   "source": [
    "Since we're going to need the data grouped base on age (children and adult), then we better do it now."
   ]
  },
  {
   "cell_type": "code",
   "execution_count": 237,
   "metadata": {
    "collapsed": false
   },
   "outputs": [
    {
     "data": {
      "text/html": [
       "<div>\n",
       "<table border=\"1\" class=\"dataframe\">\n",
       "  <thead>\n",
       "    <tr style=\"text-align: right;\">\n",
       "      <th></th>\n",
       "      <th>Survived</th>\n",
       "      <th>Pclass</th>\n",
       "      <th>Sex</th>\n",
       "      <th>Age</th>\n",
       "      <th>Talone</th>\n",
       "      <th>AgeGroup</th>\n",
       "    </tr>\n",
       "  </thead>\n",
       "  <tbody>\n",
       "    <tr>\n",
       "      <th>0</th>\n",
       "      <td>False</td>\n",
       "      <td>3</td>\n",
       "      <td>male</td>\n",
       "      <td>22.0</td>\n",
       "      <td>False</td>\n",
       "      <td>Adult</td>\n",
       "    </tr>\n",
       "    <tr>\n",
       "      <th>1</th>\n",
       "      <td>True</td>\n",
       "      <td>1</td>\n",
       "      <td>female</td>\n",
       "      <td>38.0</td>\n",
       "      <td>False</td>\n",
       "      <td>Adult</td>\n",
       "    </tr>\n",
       "    <tr>\n",
       "      <th>2</th>\n",
       "      <td>True</td>\n",
       "      <td>3</td>\n",
       "      <td>female</td>\n",
       "      <td>26.0</td>\n",
       "      <td>True</td>\n",
       "      <td>Adult</td>\n",
       "    </tr>\n",
       "    <tr>\n",
       "      <th>3</th>\n",
       "      <td>True</td>\n",
       "      <td>1</td>\n",
       "      <td>female</td>\n",
       "      <td>35.0</td>\n",
       "      <td>False</td>\n",
       "      <td>Adult</td>\n",
       "    </tr>\n",
       "    <tr>\n",
       "      <th>4</th>\n",
       "      <td>False</td>\n",
       "      <td>3</td>\n",
       "      <td>male</td>\n",
       "      <td>35.0</td>\n",
       "      <td>True</td>\n",
       "      <td>Adult</td>\n",
       "    </tr>\n",
       "    <tr>\n",
       "      <th>5</th>\n",
       "      <td>False</td>\n",
       "      <td>3</td>\n",
       "      <td>male</td>\n",
       "      <td>NaN</td>\n",
       "      <td>True</td>\n",
       "      <td>None</td>\n",
       "    </tr>\n",
       "    <tr>\n",
       "      <th>6</th>\n",
       "      <td>False</td>\n",
       "      <td>1</td>\n",
       "      <td>male</td>\n",
       "      <td>54.0</td>\n",
       "      <td>True</td>\n",
       "      <td>Adult</td>\n",
       "    </tr>\n",
       "    <tr>\n",
       "      <th>7</th>\n",
       "      <td>False</td>\n",
       "      <td>3</td>\n",
       "      <td>male</td>\n",
       "      <td>2.0</td>\n",
       "      <td>False</td>\n",
       "      <td>Child</td>\n",
       "    </tr>\n",
       "    <tr>\n",
       "      <th>8</th>\n",
       "      <td>True</td>\n",
       "      <td>3</td>\n",
       "      <td>female</td>\n",
       "      <td>27.0</td>\n",
       "      <td>False</td>\n",
       "      <td>Adult</td>\n",
       "    </tr>\n",
       "    <tr>\n",
       "      <th>9</th>\n",
       "      <td>True</td>\n",
       "      <td>2</td>\n",
       "      <td>female</td>\n",
       "      <td>14.0</td>\n",
       "      <td>False</td>\n",
       "      <td>Child</td>\n",
       "    </tr>\n",
       "  </tbody>\n",
       "</table>\n",
       "</div>"
      ],
      "text/plain": [
       "  Survived  Pclass     Sex   Age Talone AgeGroup\n",
       "0    False       3    male  22.0  False    Adult\n",
       "1     True       1  female  38.0  False    Adult\n",
       "2     True       3  female  26.0   True    Adult\n",
       "3     True       1  female  35.0  False    Adult\n",
       "4    False       3    male  35.0   True    Adult\n",
       "5    False       3    male   NaN   True     None\n",
       "6    False       1    male  54.0   True    Adult\n",
       "7    False       3    male   2.0  False    Child\n",
       "8     True       3  female  27.0  False    Adult\n",
       "9     True       2  female  14.0  False    Child"
      ]
     },
     "execution_count": 237,
     "metadata": {},
     "output_type": "execute_result"
    }
   ],
   "source": [
    "# add a column \n",
    "cleaned_titanic_df['AgeGroup'] = cleaned_titanic_df.Age.apply(lambda x: None if pd.isnull(x) else \"Child\" if x <=18 else \"Adult\")\n",
    " \n",
    "cleaned_titanic_df.head(n=10)"
   ]
  },
  {
   "cell_type": "markdown",
   "metadata": {},
   "source": [
    "Now let's see the Age distribution of passengers in the dataset."
   ]
  },
  {
   "cell_type": "code",
   "execution_count": 238,
   "metadata": {
    "collapsed": false,
    "scrolled": false
   },
   "outputs": [
    {
     "name": "stdout",
     "output_type": "stream",
     "text": [
      "Number of missing values: 177\n"
     ]
    },
    {
     "data": {
      "text/html": [
       "<div>\n",
       "<table border=\"1\" class=\"dataframe\">\n",
       "  <thead>\n",
       "    <tr style=\"text-align: right;\">\n",
       "      <th></th>\n",
       "      <th>Age</th>\n",
       "    </tr>\n",
       "  </thead>\n",
       "  <tbody>\n",
       "    <tr>\n",
       "      <th>count</th>\n",
       "      <td>714.000000</td>\n",
       "    </tr>\n",
       "    <tr>\n",
       "      <th>mean</th>\n",
       "      <td>29.699118</td>\n",
       "    </tr>\n",
       "    <tr>\n",
       "      <th>std</th>\n",
       "      <td>14.526497</td>\n",
       "    </tr>\n",
       "    <tr>\n",
       "      <th>min</th>\n",
       "      <td>0.420000</td>\n",
       "    </tr>\n",
       "    <tr>\n",
       "      <th>25%</th>\n",
       "      <td>20.125000</td>\n",
       "    </tr>\n",
       "    <tr>\n",
       "      <th>50%</th>\n",
       "      <td>28.000000</td>\n",
       "    </tr>\n",
       "    <tr>\n",
       "      <th>75%</th>\n",
       "      <td>38.000000</td>\n",
       "    </tr>\n",
       "    <tr>\n",
       "      <th>max</th>\n",
       "      <td>80.000000</td>\n",
       "    </tr>\n",
       "  </tbody>\n",
       "</table>\n",
       "</div>"
      ],
      "text/plain": [
       "              Age\n",
       "count  714.000000\n",
       "mean    29.699118\n",
       "std     14.526497\n",
       "min      0.420000\n",
       "25%     20.125000\n",
       "50%     28.000000\n",
       "75%     38.000000\n",
       "max     80.000000"
      ]
     },
     "execution_count": 238,
     "metadata": {},
     "output_type": "execute_result"
    },
    {
     "data": {
      "image/png": "[encoded data removed]",
      "text/plain": [
       "<matplotlib.figure.Figure at 0xbeb68d0>"
      ]
     },
     "metadata": {},
     "output_type": "display_data"
    }
   ],
   "source": [
    "print 'Number of missing values: {}'.format(cleaned_titanic_df.Age.isnull().sum())\n",
    "\n",
    "# draw histogram subplot for Age\n",
    "g = sns.boxplot(cleaned_titanic_df[cleaned_titanic_df.Age.notnull()].Age)\n",
    "g.axes.set_title('Age Distribution of Titanic Passanger in Dataset')\n",
    "g.axes.set_xlim([0,85])\n",
    "\n",
    "pd.DataFrame(cleaned_titanic_df.Age.describe())"
   ]
  },
  {
   "cell_type": "markdown",
   "metadata": {},
   "source": [
    "As we've already known, there are 177 missing values in Age column which represent roughly 20% total records in the dataset. We can consider to remove these entries, and proceed with less data. However, that's might not be necessary since we won't be focusing our analysis in Age category alone. I decided to keep these missing values and made a note that they were there. \n",
    "\n",
    "Notice that for the 714 passengers in the dataset with available age values, the youngest passenger was 0.42 year old, and the oldest passenger was 80 years-old. Therefore, we can be sure that all age values are in a reasonable range.\n",
    "\n",
    "Also notice that we have a positively skewed (mean=29.7, median=28), with interquartile range between 20.1 and 38. We can see from the boxplot that there are quite a few positive outliers, though I'm not going to do anything to them since they represent valid values. \n",
    "\n",
    "Now let see age distribution across gender."
   ]
  },
  {
   "cell_type": "code",
   "execution_count": 239,
   "metadata": {
    "collapsed": false,
    "scrolled": false
   },
   "outputs": [
    {
     "data": {
      "image/png": "[encoded data removed]",
      "text/plain": [
       "<matplotlib.figure.Figure at 0xc3b8a90>"
      ]
     },
     "metadata": {},
     "output_type": "display_data"
    }
   ],
   "source": [
    "# graph - Age distribution by sex\n",
    "g = sns.factorplot(x=\"Sex\", y=\"Age\", data=cleaned_titanic_df[cleaned_titanic_df.Age.notnull()], \n",
    "                   saturation=.5, kind=\"box\", ci=None, size=5, aspect=.8)\n",
    "# set titles\n",
    "titles = ['Age Distribution Across Gender']\n",
    "for ax, title in zip(g.axes.flat, titles):\n",
    "    ax.set_title(title)"
   ]
  },
  {
   "cell_type": "markdown",
   "metadata": {},
   "source": [
    "We can see that female passengers are slightly younger than male passengers, and that all outliers we see earlier are appeared to be from male passengers. \n",
    "\n",
    "##### Talone"
   ]
  },
  {
   "cell_type": "code",
   "execution_count": 240,
   "metadata": {
    "collapsed": false
   },
   "outputs": [
    {
     "name": "stdout",
     "output_type": "stream",
     "text": [
      "Number of missing values: 0\n"
     ]
    },
    {
     "data": {
      "text/html": [
       "<div>\n",
       "<table border=\"1\" class=\"dataframe\">\n",
       "  <thead>\n",
       "    <tr style=\"text-align: right;\">\n",
       "      <th></th>\n",
       "      <th>count</th>\n",
       "      <th>percentage</th>\n",
       "    </tr>\n",
       "    <tr>\n",
       "      <th>Talone</th>\n",
       "      <th></th>\n",
       "      <th></th>\n",
       "    </tr>\n",
       "  </thead>\n",
       "  <tbody>\n",
       "    <tr>\n",
       "      <th>False</th>\n",
       "      <td>354</td>\n",
       "      <td>39.7</td>\n",
       "    </tr>\n",
       "    <tr>\n",
       "      <th>True</th>\n",
       "      <td>537</td>\n",
       "      <td>60.3</td>\n",
       "    </tr>\n",
       "  </tbody>\n",
       "</table>\n",
       "</div>"
      ],
      "text/plain": [
       "        count  percentage\n",
       "Talone                   \n",
       "False     354        39.7\n",
       "True      537        60.3"
      ]
     },
     "execution_count": 240,
     "metadata": {},
     "output_type": "execute_result"
    },
    {
     "data": {
      "image/png": "[encoded data removed]",
      "text/plain": [
       "<matplotlib.figure.Figure at 0xb9e06d8>"
      ]
     },
     "metadata": {},
     "output_type": "display_data"
    }
   ],
   "source": [
    "cleaned_titanic_bargraph('Talone')\n",
    "cleaned_titanic_dist('Talone')"
   ]
  },
  {
   "cell_type": "markdown",
   "metadata": {},
   "source": [
    "There's no incorrect and no missing values in Talone column. The numbers show that most passangers (60.3%) were traveling without any family member."
   ]
  },
  {
   "cell_type": "markdown",
   "metadata": {},
   "source": [
    "# Data Exploration and Visualization\n",
    "\n",
    "Let's explore our data. First, we'll create a new Pandas DataFrame to store cleaned data."
   ]
  },
  {
   "cell_type": "code",
   "execution_count": 241,
   "metadata": {
    "collapsed": false,
    "scrolled": true
   },
   "outputs": [],
   "source": [
    "# store data into new dataframe named data\n",
    "data = cleaned_titanic_df"
   ]
  },
  {
   "cell_type": "markdown",
   "metadata": {},
   "source": [
    "###### Data Dictionary of Cleaned Dataset\n",
    "\n",
    "Variable      | Definition                                | Key\n",
    "------------- | ------------------------------------------|------------------------------------------------\n",
    "Survived      | Survival                                  | False = Not survived, True = Survived\n",
    "Pclass        | Ticket Class                              | 1 = 1st, 2 = 2nd, 3 = 3rd\n",
    "Sex           | Sex                                       |\n",
    "Age           | Age in years                              |\n",
    "Talone        | Traveling Alone                           | False = Travel with at least one family member, True = Travel Alone\n",
    "AgeGroup      | Age Group                                 | Child = 17 or younger, Adult = older than 17\n",
    "\n",
    "##### Data Limitation and Assumption\n",
    "\n",
    "* The dataset only containts records from 891 passengers out of 2224 passengers and crew aboard the Titanic.\n",
    "* We assume that the sampling method was simple random sampling.\n",
    "* Some values are missing for Age and AgeGroup categories and will be ignored when dealing with these categories.\n",
    "\n",
    "##### Overall Survival Rate"
   ]
  },
  {
   "cell_type": "code",
   "execution_count": 242,
   "metadata": {
    "collapsed": false
   },
   "outputs": [
    {
     "name": "stdout",
     "output_type": "stream",
     "text": [
      "overall survival rate = 38.38%\n"
     ]
    }
   ],
   "source": [
    "print \"overall survival rate = {}%\".format((data[['Survived']].unstack().mean()*100).round(2))"
   ]
  },
  {
   "cell_type": "markdown",
   "metadata": {},
   "source": [
    "This is going to be our reference rate when comparing whether in a particular circumstance the survival rate was higher or lower."
   ]
  },
  {
   "cell_type": "code",
   "execution_count": 243,
   "metadata": {
    "collapsed": true
   },
   "outputs": [],
   "source": [
    "# calculate the survival count and survival rate\n",
    "def survival_summary(dt, group):\n",
    "    \"\"\"\n",
    "    Args:\n",
    "        dt: data\n",
    "        group: list of columns to use\n",
    "    Returns:\n",
    "        panda dataframe consist of survival count and percentage\n",
    "    \"\"\"\n",
    "    \n",
    "    count = dt.groupby(group).size().unstack()\n",
    "    percentage = dt.groupby(group[:-1])[['Survived']].mean()\n",
    "\n",
    "    return pd.DataFrame(data={'# survived=0':count[0], '# survived=1':count[1], 'survival rate': percentage['Survived']})"
   ]
  },
  {
   "cell_type": "markdown",
   "metadata": {},
   "source": [
    "Let's start investigating.\n",
    "\n",
    "## Q1: Did female passanger have a better chance of survival than male?"
   ]
  },
  {
   "cell_type": "markdown",
   "metadata": {},
   "source": [
    "Now let's investigate the survival rate between male and female passengers and see whether female passengers were morelikely to survive than male passengers."
   ]
  },
  {
   "cell_type": "code",
   "execution_count": 244,
   "metadata": {
    "collapsed": false
   },
   "outputs": [
    {
     "data": {
      "text/html": [
       "<div>\n",
       "<table border=\"1\" class=\"dataframe\">\n",
       "  <thead>\n",
       "    <tr style=\"text-align: right;\">\n",
       "      <th></th>\n",
       "      <th># survived=0</th>\n",
       "      <th># survived=1</th>\n",
       "      <th>survival rate</th>\n",
       "    </tr>\n",
       "    <tr>\n",
       "      <th>Sex</th>\n",
       "      <th></th>\n",
       "      <th></th>\n",
       "      <th></th>\n",
       "    </tr>\n",
       "  </thead>\n",
       "  <tbody>\n",
       "    <tr>\n",
       "      <th>female</th>\n",
       "      <td>81</td>\n",
       "      <td>233</td>\n",
       "      <td>0.742038</td>\n",
       "    </tr>\n",
       "    <tr>\n",
       "      <th>male</th>\n",
       "      <td>468</td>\n",
       "      <td>109</td>\n",
       "      <td>0.188908</td>\n",
       "    </tr>\n",
       "  </tbody>\n",
       "</table>\n",
       "</div>"
      ],
      "text/plain": [
       "        # survived=0  # survived=1  survival rate\n",
       "Sex                                              \n",
       "female            81           233       0.742038\n",
       "male             468           109       0.188908"
      ]
     },
     "execution_count": 244,
     "metadata": {},
     "output_type": "execute_result"
    },
    {
     "data": {
      "image/png": "[encoded data removed]",
      "text/plain": [
       "<matplotlib.figure.Figure at 0xc3f7048>"
      ]
     },
     "metadata": {},
     "output_type": "display_data"
    }
   ],
   "source": [
    "# graph - survival rate by sex\n",
    "g = sns.factorplot(x=\"Sex\", y=\"Survived\", data=data, \n",
    "                   saturation=.5, kind=\"bar\", ci=None, size=3, aspect=1.4)\n",
    "\n",
    "# set labels\n",
    "g.set_axis_labels('Sex', 'Survival Rate')\n",
    "\n",
    "# set titles\n",
    "titles = ['Survival Rate by Sex']\n",
    "for ax, title in zip(g.axes.flat, titles):\n",
    "    ax.set_title(title)\n",
    "\n",
    "# summary - survival rate by sex\n",
    "survival_summary(data, ['Sex', 'Survived'])"
   ]
  },
  {
   "cell_type": "markdown",
   "metadata": {},
   "source": [
    "We can see that roughly 74.204% female passengers in the dataset survived, but only 18.891% male passengers did. Let's see the number across socio-economic status. Tentatively, we can say that female passengers had a better chance of survival than overall passengers, while male passengers had a lower chance of survival than overall passengers, which means females were more likely to survive than male passengers."
   ]
  },
  {
   "cell_type": "code",
   "execution_count": 245,
   "metadata": {
    "collapsed": false,
    "scrolled": false
   },
   "outputs": [
    {
     "data": {
      "text/html": [
       "<div>\n",
       "<table border=\"1\" class=\"dataframe\">\n",
       "  <thead>\n",
       "    <tr style=\"text-align: right;\">\n",
       "      <th></th>\n",
       "      <th></th>\n",
       "      <th># survived=0</th>\n",
       "      <th># survived=1</th>\n",
       "      <th>survival rate</th>\n",
       "    </tr>\n",
       "    <tr>\n",
       "      <th>Pclass</th>\n",
       "      <th>Sex</th>\n",
       "      <th></th>\n",
       "      <th></th>\n",
       "      <th></th>\n",
       "    </tr>\n",
       "  </thead>\n",
       "  <tbody>\n",
       "    <tr>\n",
       "      <th rowspan=\"2\" valign=\"top\">1</th>\n",
       "      <th>female</th>\n",
       "      <td>3</td>\n",
       "      <td>91</td>\n",
       "      <td>0.968085</td>\n",
       "    </tr>\n",
       "    <tr>\n",
       "      <th>male</th>\n",
       "      <td>77</td>\n",
       "      <td>45</td>\n",
       "      <td>0.368852</td>\n",
       "    </tr>\n",
       "    <tr>\n",
       "      <th rowspan=\"2\" valign=\"top\">2</th>\n",
       "      <th>female</th>\n",
       "      <td>6</td>\n",
       "      <td>70</td>\n",
       "      <td>0.921053</td>\n",
       "    </tr>\n",
       "    <tr>\n",
       "      <th>male</th>\n",
       "      <td>91</td>\n",
       "      <td>17</td>\n",
       "      <td>0.157407</td>\n",
       "    </tr>\n",
       "    <tr>\n",
       "      <th rowspan=\"2\" valign=\"top\">3</th>\n",
       "      <th>female</th>\n",
       "      <td>72</td>\n",
       "      <td>72</td>\n",
       "      <td>0.500000</td>\n",
       "    </tr>\n",
       "    <tr>\n",
       "      <th>male</th>\n",
       "      <td>300</td>\n",
       "      <td>47</td>\n",
       "      <td>0.135447</td>\n",
       "    </tr>\n",
       "  </tbody>\n",
       "</table>\n",
       "</div>"
      ],
      "text/plain": [
       "               # survived=0  # survived=1  survival rate\n",
       "Pclass Sex                                              \n",
       "1      female             3            91       0.968085\n",
       "       male              77            45       0.368852\n",
       "2      female             6            70       0.921053\n",
       "       male              91            17       0.157407\n",
       "3      female            72            72       0.500000\n",
       "       male             300            47       0.135447"
      ]
     },
     "execution_count": 245,
     "metadata": {},
     "output_type": "execute_result"
    },
    {
     "data": {
      "image/png": "[encoded data removed]",
      "text/plain": [
       "<matplotlib.figure.Figure at 0xbeafbe0>"
      ]
     },
     "metadata": {},
     "output_type": "display_data"
    }
   ],
   "source": [
    "# graph - survival rate by sex across socio-economic status \n",
    "g = sns.factorplot(x=\"Sex\", y=\"Survived\", col=\"Pclass\", data=data, \n",
    "                   saturation=.5, kind=\"bar\", ci=None, size=3, aspect=1.4)\n",
    "\n",
    "# set labels\n",
    "g.set_axis_labels('Sex', 'Survival Rate')\n",
    "plt.subplots_adjust(top=0.9)\n",
    "\n",
    "# set titles\n",
    "titles = ['1st Class', '2nd Class', '3rd Class']\n",
    "for ax, title in zip(g.axes.flat, titles):\n",
    "    ax.set_title(title)\n",
    "    \n",
    "# summary - survival rate by sex across socio-economic status\n",
    "survival_summary(data, ['Pclass', 'Sex', 'Survived'])"
   ]
  },
  {
   "cell_type": "markdown",
   "metadata": {},
   "source": [
    "Now we can see that even across socio-economic status, female passengers were more likely to survive compare to male passengers from the same socio-economic status. Let's dig deeper and see how the numbers do across socio-economic and travel type (whether a passenger was traveling with at least one family member or not)."
   ]
  },
  {
   "cell_type": "code",
   "execution_count": 246,
   "metadata": {
    "collapsed": false,
    "scrolled": false
   },
   "outputs": [
    {
     "data": {
      "text/html": [
       "<div>\n",
       "<table border=\"1\" class=\"dataframe\">\n",
       "  <thead>\n",
       "    <tr style=\"text-align: right;\">\n",
       "      <th></th>\n",
       "      <th></th>\n",
       "      <th></th>\n",
       "      <th># survived=0</th>\n",
       "      <th># survived=1</th>\n",
       "      <th>survival rate</th>\n",
       "    </tr>\n",
       "    <tr>\n",
       "      <th>Pclass</th>\n",
       "      <th>Talone</th>\n",
       "      <th>Sex</th>\n",
       "      <th></th>\n",
       "      <th></th>\n",
       "      <th></th>\n",
       "    </tr>\n",
       "  </thead>\n",
       "  <tbody>\n",
       "    <tr>\n",
       "      <th rowspan=\"4\" valign=\"top\">1</th>\n",
       "      <th rowspan=\"2\" valign=\"top\">False</th>\n",
       "      <th>female</th>\n",
       "      <td>2</td>\n",
       "      <td>58</td>\n",
       "      <td>0.966667</td>\n",
       "    </tr>\n",
       "    <tr>\n",
       "      <th>male</th>\n",
       "      <td>27</td>\n",
       "      <td>20</td>\n",
       "      <td>0.425532</td>\n",
       "    </tr>\n",
       "    <tr>\n",
       "      <th rowspan=\"2\" valign=\"top\">True</th>\n",
       "      <th>female</th>\n",
       "      <td>1</td>\n",
       "      <td>33</td>\n",
       "      <td>0.970588</td>\n",
       "    </tr>\n",
       "    <tr>\n",
       "      <th>male</th>\n",
       "      <td>50</td>\n",
       "      <td>25</td>\n",
       "      <td>0.333333</td>\n",
       "    </tr>\n",
       "    <tr>\n",
       "      <th rowspan=\"4\" valign=\"top\">2</th>\n",
       "      <th rowspan=\"2\" valign=\"top\">False</th>\n",
       "      <th>female</th>\n",
       "      <td>3</td>\n",
       "      <td>41</td>\n",
       "      <td>0.931818</td>\n",
       "    </tr>\n",
       "    <tr>\n",
       "      <th>male</th>\n",
       "      <td>26</td>\n",
       "      <td>10</td>\n",
       "      <td>0.277778</td>\n",
       "    </tr>\n",
       "    <tr>\n",
       "      <th rowspan=\"2\" valign=\"top\">True</th>\n",
       "      <th>female</th>\n",
       "      <td>3</td>\n",
       "      <td>29</td>\n",
       "      <td>0.906250</td>\n",
       "    </tr>\n",
       "    <tr>\n",
       "      <th>male</th>\n",
       "      <td>65</td>\n",
       "      <td>7</td>\n",
       "      <td>0.097222</td>\n",
       "    </tr>\n",
       "    <tr>\n",
       "      <th rowspan=\"4\" valign=\"top\">3</th>\n",
       "      <th rowspan=\"2\" valign=\"top\">False</th>\n",
       "      <th>female</th>\n",
       "      <td>49</td>\n",
       "      <td>35</td>\n",
       "      <td>0.416667</td>\n",
       "    </tr>\n",
       "    <tr>\n",
       "      <th>male</th>\n",
       "      <td>68</td>\n",
       "      <td>15</td>\n",
       "      <td>0.180723</td>\n",
       "    </tr>\n",
       "    <tr>\n",
       "      <th rowspan=\"2\" valign=\"top\">True</th>\n",
       "      <th>female</th>\n",
       "      <td>23</td>\n",
       "      <td>37</td>\n",
       "      <td>0.616667</td>\n",
       "    </tr>\n",
       "    <tr>\n",
       "      <th>male</th>\n",
       "      <td>232</td>\n",
       "      <td>32</td>\n",
       "      <td>0.121212</td>\n",
       "    </tr>\n",
       "  </tbody>\n",
       "</table>\n",
       "</div>"
      ],
      "text/plain": [
       "                      # survived=0  # survived=1  survival rate\n",
       "Pclass Talone Sex                                              \n",
       "1      False  female             2            58       0.966667\n",
       "              male              27            20       0.425532\n",
       "       True   female             1            33       0.970588\n",
       "              male              50            25       0.333333\n",
       "2      False  female             3            41       0.931818\n",
       "              male              26            10       0.277778\n",
       "       True   female             3            29       0.906250\n",
       "              male              65             7       0.097222\n",
       "3      False  female            49            35       0.416667\n",
       "              male              68            15       0.180723\n",
       "       True   female            23            37       0.616667\n",
       "              male             232            32       0.121212"
      ]
     },
     "execution_count": 246,
     "metadata": {},
     "output_type": "execute_result"
    },
    {
     "data": {
      "image/png": "[encoded data removed]",
      "text/plain": [
       "<matplotlib.figure.Figure at 0x45ab630>"
      ]
     },
     "metadata": {},
     "output_type": "display_data"
    }
   ],
   "source": [
    "# graph - survival rate by Sex across socio-economic status and Talone\n",
    "g = sns.factorplot(x = 'Talone', y='Survived', col='Pclass', hue='Sex'\n",
    "                   , ci=None, data=data, kind='bar', size=3, aspect=1.4)\n",
    "\n",
    "#set labels\n",
    "(g.set_axis_labels('Talone', 'Survival Rate'))\n",
    "\n",
    "# set titles\n",
    "titles = ['1st Class', '2nd Class', '3rd Class']\n",
    "for ax, title in zip(g.axes.flat, titles):\n",
    "    ax.set_title(title)\n",
    "    \n",
    "# summary - survival rate by Sex across socio-economic status and Talone\n",
    "survival_summary(data, ['Pclass', 'Talone', 'Sex', 'Survived'])"
   ]
  },
  {
   "cell_type": "markdown",
   "metadata": {},
   "source": [
    "It does also seem that female passengers were more likely to survived the sinking Titanic than male passengers from the same class and the same traveling status (whether traveling alone or not). Even the lowest survival rate for female passengers where Pclass = 3 and Talone = 0 with survival rate 41.7%, is just slightly lower than the highest survival rate for male passengers where Pclass = 1 and Talone =0 with survival rate 42.6%. \n",
    "\n",
    "Therefore, we conclude that a female passenger, regardless of socio-economic and traveling status, were more likely to survive than a male passangers."
   ]
  },
  {
   "cell_type": "markdown",
   "metadata": {},
   "source": [
    "## Q2: Did socio-economic status count as a factor in survival rate?"
   ]
  },
  {
   "cell_type": "markdown",
   "metadata": {},
   "source": [
    "Now let's investigate the survival rate across socio-economic status and see passengers from which socio-economic status were more likely to survive."
   ]
  },
  {
   "cell_type": "code",
   "execution_count": 247,
   "metadata": {
    "collapsed": false,
    "scrolled": false
   },
   "outputs": [
    {
     "data": {
      "text/html": [
       "<div>\n",
       "<table border=\"1\" class=\"dataframe\">\n",
       "  <thead>\n",
       "    <tr style=\"text-align: right;\">\n",
       "      <th></th>\n",
       "      <th># survived=0</th>\n",
       "      <th># survived=1</th>\n",
       "      <th>survival rate</th>\n",
       "    </tr>\n",
       "    <tr>\n",
       "      <th>Pclass</th>\n",
       "      <th></th>\n",
       "      <th></th>\n",
       "      <th></th>\n",
       "    </tr>\n",
       "  </thead>\n",
       "  <tbody>\n",
       "    <tr>\n",
       "      <th>1</th>\n",
       "      <td>80</td>\n",
       "      <td>136</td>\n",
       "      <td>0.629630</td>\n",
       "    </tr>\n",
       "    <tr>\n",
       "      <th>2</th>\n",
       "      <td>97</td>\n",
       "      <td>87</td>\n",
       "      <td>0.472826</td>\n",
       "    </tr>\n",
       "    <tr>\n",
       "      <th>3</th>\n",
       "      <td>372</td>\n",
       "      <td>119</td>\n",
       "      <td>0.242363</td>\n",
       "    </tr>\n",
       "  </tbody>\n",
       "</table>\n",
       "</div>"
      ],
      "text/plain": [
       "        # survived=0  # survived=1  survival rate\n",
       "Pclass                                           \n",
       "1                 80           136       0.629630\n",
       "2                 97            87       0.472826\n",
       "3                372           119       0.242363"
      ]
     },
     "execution_count": 247,
     "metadata": {},
     "output_type": "execute_result"
    },
    {
     "data": {
      "image/png": "[encoded data removed]",
      "text/plain": [
       "<matplotlib.figure.Figure at 0xcd40ef0>"
      ]
     },
     "metadata": {},
     "output_type": "display_data"
    }
   ],
   "source": [
    "# graph - survival rate by socio-economic status\n",
    "g = sns.factorplot(x=\"Pclass\", y=\"Survived\", data=data, \n",
    "                   saturation=.5, kind=\"bar\", ci=None, size=3, aspect=1.4)\n",
    "\n",
    "# set labels\n",
    "g.set_axis_labels('Pclass', 'Survival Rate')\n",
    "\n",
    "# set titles\n",
    "titles = ['Survival Rate by Pclass']\n",
    "for ax, title in zip(g.axes.flat, titles):\n",
    "    ax.set_title(title)\n",
    "\n",
    "# summary - survival rate by socio-economic status\n",
    "survival_summary(data, ['Pclass', 'Survived'])"
   ]
  },
  {
   "cell_type": "markdown",
   "metadata": {},
   "source": [
    "Raw numbers and graph above suggest that in general, First Class passengers seems to had a higher chance of survival than Second Class passengers, and that Second Class passengers had a higher chance of survival than Third Class passengers.\n",
    "\n",
    "First and second class passengers with survival rate of 62.96% and 47.28% respectively, had a better chance of survival than overall passengers. Third class passengers with survival rate of 24.36% had a lower chance of survival than overall passengers.\n",
    "\n",
    "Numbers suggest that socio-economic status was a factor that determine the chance of survival.\n",
    "\n",
    "Let's see how socio-economic status do across gender."
   ]
  },
  {
   "cell_type": "code",
   "execution_count": 248,
   "metadata": {
    "collapsed": false,
    "scrolled": false
   },
   "outputs": [
    {
     "data": {
      "text/html": [
       "<div>\n",
       "<table border=\"1\" class=\"dataframe\">\n",
       "  <thead>\n",
       "    <tr style=\"text-align: right;\">\n",
       "      <th></th>\n",
       "      <th></th>\n",
       "      <th># survived=0</th>\n",
       "      <th># survived=1</th>\n",
       "      <th>survival rate</th>\n",
       "    </tr>\n",
       "    <tr>\n",
       "      <th>Sex</th>\n",
       "      <th>Pclass</th>\n",
       "      <th></th>\n",
       "      <th></th>\n",
       "      <th></th>\n",
       "    </tr>\n",
       "  </thead>\n",
       "  <tbody>\n",
       "    <tr>\n",
       "      <th rowspan=\"3\" valign=\"top\">female</th>\n",
       "      <th>1</th>\n",
       "      <td>3</td>\n",
       "      <td>91</td>\n",
       "      <td>0.968085</td>\n",
       "    </tr>\n",
       "    <tr>\n",
       "      <th>2</th>\n",
       "      <td>6</td>\n",
       "      <td>70</td>\n",
       "      <td>0.921053</td>\n",
       "    </tr>\n",
       "    <tr>\n",
       "      <th>3</th>\n",
       "      <td>72</td>\n",
       "      <td>72</td>\n",
       "      <td>0.500000</td>\n",
       "    </tr>\n",
       "    <tr>\n",
       "      <th rowspan=\"3\" valign=\"top\">male</th>\n",
       "      <th>1</th>\n",
       "      <td>77</td>\n",
       "      <td>45</td>\n",
       "      <td>0.368852</td>\n",
       "    </tr>\n",
       "    <tr>\n",
       "      <th>2</th>\n",
       "      <td>91</td>\n",
       "      <td>17</td>\n",
       "      <td>0.157407</td>\n",
       "    </tr>\n",
       "    <tr>\n",
       "      <th>3</th>\n",
       "      <td>300</td>\n",
       "      <td>47</td>\n",
       "      <td>0.135447</td>\n",
       "    </tr>\n",
       "  </tbody>\n",
       "</table>\n",
       "</div>"
      ],
      "text/plain": [
       "               # survived=0  # survived=1  survival rate\n",
       "Sex    Pclass                                           \n",
       "female 1                  3            91       0.968085\n",
       "       2                  6            70       0.921053\n",
       "       3                 72            72       0.500000\n",
       "male   1                 77            45       0.368852\n",
       "       2                 91            17       0.157407\n",
       "       3                300            47       0.135447"
      ]
     },
     "execution_count": 248,
     "metadata": {},
     "output_type": "execute_result"
    },
    {
     "data": {
      "image/png": "[encoded data removed]",
      "text/plain": [
       "<matplotlib.figure.Figure at 0xc14fc18>"
      ]
     },
     "metadata": {},
     "output_type": "display_data"
    }
   ],
   "source": [
    "# graph - survival rate by socio-economic status across gender\n",
    "g = sns.factorplot(x=\"Pclass\", y=\"Survived\", col=\"Sex\", data=data, \n",
    "                   saturation=.5, kind=\"bar\", ci=None, size=3, aspect=1.4)\n",
    "\n",
    "# set labels\n",
    "g.set_axis_labels('Pclass', 'Survival Rate')\n",
    "plt.subplots_adjust(top=0.9)\n",
    "\n",
    "# set titles\n",
    "titles = ['Males', 'Females']\n",
    "for ax, title in zip(g.axes.flat, titles):\n",
    "    ax.set_title(title)\n",
    "\n",
    "# summary - survival rate by socio-economic status across gender\n",
    "survival_summary(data, ['Sex', 'Pclass', 'Survived'])"
   ]
  },
  {
   "cell_type": "markdown",
   "metadata": {},
   "source": [
    "It seems that among male passengers, socio-economic status played a role in a way that upper class passengers had a higher likelihood to survive (survival rate = 36.9%) than middle and lower class passengers. There seems to be only a slight difference between the survival rate of middle (15.7%) and lower (13.5%) class male passengers, that it could just be by chance. \n",
    "\n",
    "Among female passengers, socio-economic status played a role in determining the likelihood of survival in such a way that upper and middle class passengers had a higher chance of survival of 96.8% and 92.1% respectively, than lower class passengers (50.0%). There seems to be only a slight difference between upper and middle class female passangers survival rate, and it could also be just by chance.\n",
    "\n",
    "Now let's dig deeper and see how it does across Talone."
   ]
  },
  {
   "cell_type": "code",
   "execution_count": 249,
   "metadata": {
    "collapsed": false,
    "scrolled": false
   },
   "outputs": [
    {
     "data": {
      "text/html": [
       "<div>\n",
       "<table border=\"1\" class=\"dataframe\">\n",
       "  <thead>\n",
       "    <tr style=\"text-align: right;\">\n",
       "      <th></th>\n",
       "      <th></th>\n",
       "      <th></th>\n",
       "      <th># survived=0</th>\n",
       "      <th># survived=1</th>\n",
       "      <th>survival rate</th>\n",
       "    </tr>\n",
       "    <tr>\n",
       "      <th>Sex</th>\n",
       "      <th>Talone</th>\n",
       "      <th>Pclass</th>\n",
       "      <th></th>\n",
       "      <th></th>\n",
       "      <th></th>\n",
       "    </tr>\n",
       "  </thead>\n",
       "  <tbody>\n",
       "    <tr>\n",
       "      <th rowspan=\"6\" valign=\"top\">female</th>\n",
       "      <th rowspan=\"3\" valign=\"top\">False</th>\n",
       "      <th>1</th>\n",
       "      <td>2</td>\n",
       "      <td>58</td>\n",
       "      <td>0.966667</td>\n",
       "    </tr>\n",
       "    <tr>\n",
       "      <th>2</th>\n",
       "      <td>3</td>\n",
       "      <td>41</td>\n",
       "      <td>0.931818</td>\n",
       "    </tr>\n",
       "    <tr>\n",
       "      <th>3</th>\n",
       "      <td>49</td>\n",
       "      <td>35</td>\n",
       "      <td>0.416667</td>\n",
       "    </tr>\n",
       "    <tr>\n",
       "      <th rowspan=\"3\" valign=\"top\">True</th>\n",
       "      <th>1</th>\n",
       "      <td>1</td>\n",
       "      <td>33</td>\n",
       "      <td>0.970588</td>\n",
       "    </tr>\n",
       "    <tr>\n",
       "      <th>2</th>\n",
       "      <td>3</td>\n",
       "      <td>29</td>\n",
       "      <td>0.906250</td>\n",
       "    </tr>\n",
       "    <tr>\n",
       "      <th>3</th>\n",
       "      <td>23</td>\n",
       "      <td>37</td>\n",
       "      <td>0.616667</td>\n",
       "    </tr>\n",
       "    <tr>\n",
       "      <th rowspan=\"6\" valign=\"top\">male</th>\n",
       "      <th rowspan=\"3\" valign=\"top\">False</th>\n",
       "      <th>1</th>\n",
       "      <td>27</td>\n",
       "      <td>20</td>\n",
       "      <td>0.425532</td>\n",
       "    </tr>\n",
       "    <tr>\n",
       "      <th>2</th>\n",
       "      <td>26</td>\n",
       "      <td>10</td>\n",
       "      <td>0.277778</td>\n",
       "    </tr>\n",
       "    <tr>\n",
       "      <th>3</th>\n",
       "      <td>68</td>\n",
       "      <td>15</td>\n",
       "      <td>0.180723</td>\n",
       "    </tr>\n",
       "    <tr>\n",
       "      <th rowspan=\"3\" valign=\"top\">True</th>\n",
       "      <th>1</th>\n",
       "      <td>50</td>\n",
       "      <td>25</td>\n",
       "      <td>0.333333</td>\n",
       "    </tr>\n",
       "    <tr>\n",
       "      <th>2</th>\n",
       "      <td>65</td>\n",
       "      <td>7</td>\n",
       "      <td>0.097222</td>\n",
       "    </tr>\n",
       "    <tr>\n",
       "      <th>3</th>\n",
       "      <td>232</td>\n",
       "      <td>32</td>\n",
       "      <td>0.121212</td>\n",
       "    </tr>\n",
       "  </tbody>\n",
       "</table>\n",
       "</div>"
      ],
      "text/plain": [
       "                      # survived=0  # survived=1  survival rate\n",
       "Sex    Talone Pclass                                           \n",
       "female False  1                  2            58       0.966667\n",
       "              2                  3            41       0.931818\n",
       "              3                 49            35       0.416667\n",
       "       True   1                  1            33       0.970588\n",
       "              2                  3            29       0.906250\n",
       "              3                 23            37       0.616667\n",
       "male   False  1                 27            20       0.425532\n",
       "              2                 26            10       0.277778\n",
       "              3                 68            15       0.180723\n",
       "       True   1                 50            25       0.333333\n",
       "              2                 65             7       0.097222\n",
       "              3                232            32       0.121212"
      ]
     },
     "execution_count": 249,
     "metadata": {},
     "output_type": "execute_result"
    },
    {
     "data": {
      "image/png": "[encoded data removed]",
      "text/plain": [
       "<matplotlib.figure.Figure at 0xbef32b0>"
      ]
     },
     "metadata": {},
     "output_type": "display_data"
    }
   ],
   "source": [
    "# graph - survival rate by socio-economic status across gender and Talone\n",
    "g = sns.factorplot(x = 'Talone', y='Survived', col='Sex', hue='Pclass'\n",
    "                   , ci=None, data=data, kind='bar', size=3, aspect=1.4)\n",
    "\n",
    "#set labels\n",
    "(g.set_axis_labels('Talone', 'Survival Rate'))\n",
    "\n",
    "# set titles\n",
    "titles = ['male', 'female']\n",
    "for ax, title in zip(g.axes.flat, titles):\n",
    "    ax.set_title(title)\n",
    "\n",
    "# summary - survival rate by socio-economic status across gender and Talone\n",
    "survival_summary(data, ['Sex', 'Talone', 'Pclass', 'Survived'])"
   ]
  },
  {
   "cell_type": "markdown",
   "metadata": {
    "collapsed": false
   },
   "source": [
    "Raw numbers and graph above amplify previous finding regarding socio-economic effect on survival rate of the passengers. No matter if they were traveling or not, female passengers in first and second class had a better chance of survival than those in third class. Also, no matter if they were traveling or not, male passengers in first class had a better chance of survival than those in second and third class. \n",
    "\n",
    "It is worth noting though, male passengers in second class who were traveling with at least one family members seems to have a better likelihood to survive than male passengers who were also traveling alone but from lower socio-economic status. This wasn't clear in the previous graph because the numbers for passengers traveling alone and not traveling alone was combined together."
   ]
  },
  {
   "cell_type": "markdown",
   "metadata": {},
   "source": [
    "## Q3: Did traveling alone (without family members: parents, spouse, children, or siblings) give a passanger a better chance at survival?"
   ]
  },
  {
   "cell_type": "markdown",
   "metadata": {},
   "source": [
    "Now let's investigate the survival rate between those passengers who were traveling alone and those who were not, and see whether traveling alone gave a passenger a better chance of survival."
   ]
  },
  {
   "cell_type": "code",
   "execution_count": 250,
   "metadata": {
    "collapsed": false
   },
   "outputs": [
    {
     "data": {
      "text/html": [
       "<div>\n",
       "<table border=\"1\" class=\"dataframe\">\n",
       "  <thead>\n",
       "    <tr style=\"text-align: right;\">\n",
       "      <th></th>\n",
       "      <th># survived=0</th>\n",
       "      <th># survived=1</th>\n",
       "      <th>survival rate</th>\n",
       "    </tr>\n",
       "    <tr>\n",
       "      <th>Talone</th>\n",
       "      <th></th>\n",
       "      <th></th>\n",
       "      <th></th>\n",
       "    </tr>\n",
       "  </thead>\n",
       "  <tbody>\n",
       "    <tr>\n",
       "      <th>False</th>\n",
       "      <td>175</td>\n",
       "      <td>179</td>\n",
       "      <td>0.505650</td>\n",
       "    </tr>\n",
       "    <tr>\n",
       "      <th>True</th>\n",
       "      <td>374</td>\n",
       "      <td>163</td>\n",
       "      <td>0.303538</td>\n",
       "    </tr>\n",
       "  </tbody>\n",
       "</table>\n",
       "</div>"
      ],
      "text/plain": [
       "        # survived=0  # survived=1  survival rate\n",
       "Talone                                           \n",
       "False            175           179       0.505650\n",
       "True             374           163       0.303538"
      ]
     },
     "execution_count": 250,
     "metadata": {},
     "output_type": "execute_result"
    },
    {
     "data": {
      "image/png": "[encoded data removed]",
      "text/plain": [
       "<matplotlib.figure.Figure at 0xcdaa9b0>"
      ]
     },
     "metadata": {},
     "output_type": "display_data"
    }
   ],
   "source": [
    "# graph - survival rate by Talone\n",
    "g = sns.factorplot(x=\"Talone\", y=\"Survived\", data=data, \n",
    "                   saturation=.5, kind=\"bar\", ci=None, size=3, aspect=1.4)\n",
    "\n",
    "# set labels\n",
    "g.set_axis_labels('Talone', 'Survival Rate')\n",
    "\n",
    "# set titles\n",
    "titles = ['Survival Rate by Talone']\n",
    "for ax, title in zip(g.axes.flat, titles):\n",
    "    ax.set_title(title)\n",
    "\n",
    "\n",
    "# summary - survival rate by Talone\n",
    "survival_summary(data, ['Talone', 'Survived'])"
   ]
  },
  {
   "cell_type": "markdown",
   "metadata": {},
   "source": [
    "It seems that traveling alone didn't give a passanger a better chance at survival, in fact numbers and graph above suggest that the opposite is true. A passenger who traveled with at least one family member seems to had a better chance of survival at 50.565% than overall passengers, and a passenger who traveled alone (30.354%) had a lower chance of survival than overall passengers. Let's see if this pattern holds accross socio-economic statuses. "
   ]
  },
  {
   "cell_type": "code",
   "execution_count": 251,
   "metadata": {
    "collapsed": false,
    "scrolled": false
   },
   "outputs": [
    {
     "data": {
      "text/html": [
       "<div>\n",
       "<table border=\"1\" class=\"dataframe\">\n",
       "  <thead>\n",
       "    <tr style=\"text-align: right;\">\n",
       "      <th></th>\n",
       "      <th></th>\n",
       "      <th># survived=0</th>\n",
       "      <th># survived=1</th>\n",
       "      <th>survival rate</th>\n",
       "    </tr>\n",
       "    <tr>\n",
       "      <th>Pclass</th>\n",
       "      <th>Talone</th>\n",
       "      <th></th>\n",
       "      <th></th>\n",
       "      <th></th>\n",
       "    </tr>\n",
       "  </thead>\n",
       "  <tbody>\n",
       "    <tr>\n",
       "      <th rowspan=\"2\" valign=\"top\">1</th>\n",
       "      <th>False</th>\n",
       "      <td>29</td>\n",
       "      <td>78</td>\n",
       "      <td>0.728972</td>\n",
       "    </tr>\n",
       "    <tr>\n",
       "      <th>True</th>\n",
       "      <td>51</td>\n",
       "      <td>58</td>\n",
       "      <td>0.532110</td>\n",
       "    </tr>\n",
       "    <tr>\n",
       "      <th rowspan=\"2\" valign=\"top\">2</th>\n",
       "      <th>False</th>\n",
       "      <td>29</td>\n",
       "      <td>51</td>\n",
       "      <td>0.637500</td>\n",
       "    </tr>\n",
       "    <tr>\n",
       "      <th>True</th>\n",
       "      <td>68</td>\n",
       "      <td>36</td>\n",
       "      <td>0.346154</td>\n",
       "    </tr>\n",
       "    <tr>\n",
       "      <th rowspan=\"2\" valign=\"top\">3</th>\n",
       "      <th>False</th>\n",
       "      <td>117</td>\n",
       "      <td>50</td>\n",
       "      <td>0.299401</td>\n",
       "    </tr>\n",
       "    <tr>\n",
       "      <th>True</th>\n",
       "      <td>255</td>\n",
       "      <td>69</td>\n",
       "      <td>0.212963</td>\n",
       "    </tr>\n",
       "  </tbody>\n",
       "</table>\n",
       "</div>"
      ],
      "text/plain": [
       "               # survived=0  # survived=1  survival rate\n",
       "Pclass Talone                                           \n",
       "1      False             29            78       0.728972\n",
       "       True              51            58       0.532110\n",
       "2      False             29            51       0.637500\n",
       "       True              68            36       0.346154\n",
       "3      False            117            50       0.299401\n",
       "       True             255            69       0.212963"
      ]
     },
     "execution_count": 251,
     "metadata": {},
     "output_type": "execute_result"
    },
    {
     "data": {
      "image/png": "[encoded data removed]",
      "text/plain": [
       "<matplotlib.figure.Figure at 0xcd4a390>"
      ]
     },
     "metadata": {},
     "output_type": "display_data"
    }
   ],
   "source": [
    "# graph - survival rate by Talone across socio-economic status\n",
    "g = sns.factorplot(x=\"Talone\", y=\"Survived\", col=\"Pclass\", data=data, \n",
    "                   saturation=.5, kind=\"bar\", ci=None, size=3, aspect=1.4)\n",
    "\n",
    "# set labels\n",
    "g.set_axis_labels('Talone', 'Survival Rate')\n",
    "plt.subplots_adjust(top=0.9)\n",
    "\n",
    "# set titles\n",
    "titles = ['1st Class', '2nd Class', '3rd Class']\n",
    "for ax, title in zip(g.axes.flat, titles):\n",
    "    ax.set_title(title)\n",
    "    \n",
    "# summary - survival rate by Talone across socio-economic status\n",
    "survival_summary(data, ['Pclass', 'Talone', 'Survived'])"
   ]
  },
  {
   "cell_type": "markdown",
   "metadata": {},
   "source": [
    "Indeed it does. In all three classes, passengers who traveled with at least one family member seem to had a higher survival rate than those who traveled alone. Now let's see how it appears accross gender. "
   ]
  },
  {
   "cell_type": "code",
   "execution_count": 252,
   "metadata": {
    "collapsed": false
   },
   "outputs": [
    {
     "data": {
      "text/html": [
       "<div>\n",
       "<table border=\"1\" class=\"dataframe\">\n",
       "  <thead>\n",
       "    <tr style=\"text-align: right;\">\n",
       "      <th></th>\n",
       "      <th></th>\n",
       "      <th></th>\n",
       "      <th># survived=0</th>\n",
       "      <th># survived=1</th>\n",
       "      <th>survival rate</th>\n",
       "    </tr>\n",
       "    <tr>\n",
       "      <th>Pclass</th>\n",
       "      <th>Sex</th>\n",
       "      <th>Talone</th>\n",
       "      <th></th>\n",
       "      <th></th>\n",
       "      <th></th>\n",
       "    </tr>\n",
       "  </thead>\n",
       "  <tbody>\n",
       "    <tr>\n",
       "      <th rowspan=\"4\" valign=\"top\">1</th>\n",
       "      <th rowspan=\"2\" valign=\"top\">female</th>\n",
       "      <th>False</th>\n",
       "      <td>2</td>\n",
       "      <td>58</td>\n",
       "      <td>0.966667</td>\n",
       "    </tr>\n",
       "    <tr>\n",
       "      <th>True</th>\n",
       "      <td>1</td>\n",
       "      <td>33</td>\n",
       "      <td>0.970588</td>\n",
       "    </tr>\n",
       "    <tr>\n",
       "      <th rowspan=\"2\" valign=\"top\">male</th>\n",
       "      <th>False</th>\n",
       "      <td>27</td>\n",
       "      <td>20</td>\n",
       "      <td>0.425532</td>\n",
       "    </tr>\n",
       "    <tr>\n",
       "      <th>True</th>\n",
       "      <td>50</td>\n",
       "      <td>25</td>\n",
       "      <td>0.333333</td>\n",
       "    </tr>\n",
       "    <tr>\n",
       "      <th rowspan=\"4\" valign=\"top\">2</th>\n",
       "      <th rowspan=\"2\" valign=\"top\">female</th>\n",
       "      <th>False</th>\n",
       "      <td>3</td>\n",
       "      <td>41</td>\n",
       "      <td>0.931818</td>\n",
       "    </tr>\n",
       "    <tr>\n",
       "      <th>True</th>\n",
       "      <td>3</td>\n",
       "      <td>29</td>\n",
       "      <td>0.906250</td>\n",
       "    </tr>\n",
       "    <tr>\n",
       "      <th rowspan=\"2\" valign=\"top\">male</th>\n",
       "      <th>False</th>\n",
       "      <td>26</td>\n",
       "      <td>10</td>\n",
       "      <td>0.277778</td>\n",
       "    </tr>\n",
       "    <tr>\n",
       "      <th>True</th>\n",
       "      <td>65</td>\n",
       "      <td>7</td>\n",
       "      <td>0.097222</td>\n",
       "    </tr>\n",
       "    <tr>\n",
       "      <th rowspan=\"4\" valign=\"top\">3</th>\n",
       "      <th rowspan=\"2\" valign=\"top\">female</th>\n",
       "      <th>False</th>\n",
       "      <td>49</td>\n",
       "      <td>35</td>\n",
       "      <td>0.416667</td>\n",
       "    </tr>\n",
       "    <tr>\n",
       "      <th>True</th>\n",
       "      <td>23</td>\n",
       "      <td>37</td>\n",
       "      <td>0.616667</td>\n",
       "    </tr>\n",
       "    <tr>\n",
       "      <th rowspan=\"2\" valign=\"top\">male</th>\n",
       "      <th>False</th>\n",
       "      <td>68</td>\n",
       "      <td>15</td>\n",
       "      <td>0.180723</td>\n",
       "    </tr>\n",
       "    <tr>\n",
       "      <th>True</th>\n",
       "      <td>232</td>\n",
       "      <td>32</td>\n",
       "      <td>0.121212</td>\n",
       "    </tr>\n",
       "  </tbody>\n",
       "</table>\n",
       "</div>"
      ],
      "text/plain": [
       "                      # survived=0  # survived=1  survival rate\n",
       "Pclass Sex    Talone                                           \n",
       "1      female False              2            58       0.966667\n",
       "              True               1            33       0.970588\n",
       "       male   False             27            20       0.425532\n",
       "              True              50            25       0.333333\n",
       "2      female False              3            41       0.931818\n",
       "              True               3            29       0.906250\n",
       "       male   False             26            10       0.277778\n",
       "              True              65             7       0.097222\n",
       "3      female False             49            35       0.416667\n",
       "              True              23            37       0.616667\n",
       "       male   False             68            15       0.180723\n",
       "              True             232            32       0.121212"
      ]
     },
     "execution_count": 252,
     "metadata": {},
     "output_type": "execute_result"
    },
    {
     "data": {
      "image/png": "[encoded data removed]",
      "text/plain": [
       "<matplotlib.figure.Figure at 0xb842828>"
      ]
     },
     "metadata": {},
     "output_type": "display_data"
    }
   ],
   "source": [
    "# graph - survival rate by Talone across socio-economic status and gender\n",
    "g = sns.factorplot(x = 'Sex', y='Survived', col='Pclass', hue='Talone'\n",
    "                   , ci=None, data=data, kind='bar', size=3, aspect=1.4)\n",
    "\n",
    "#set labels\n",
    "(g.set_axis_labels('Sex', 'Survival Rate'))\n",
    "\n",
    "# set titles\n",
    "titles = ['1st Class', '2nd Class', '3rd Class']\n",
    "for ax, title in zip(g.axes.flat, titles):\n",
    "    ax.set_title(title)\n",
    "\n",
    "# summary - survival rate by Talone across socio-economic status and gender\n",
    "survival_summary(data, ['Pclass', 'Sex', 'Talone', 'Survived'])"
   ]
  },
  {
   "cell_type": "markdown",
   "metadata": {},
   "source": [
    "This is interesting. Notice how the bar graph for male depicting that no matter which class a male passenger was in, his survival rate was higher if he was traveling with at least one family member. The largest survival rate difference between male passengers who were traveling with family member and those who were not, appears in 2nd class male passengers, with survival rate of 28.8% and 9.7% respectively.\n",
    "\n",
    "Female passengers didn't quite follow the pattern we found in male passengers in regard to traveling alone, especiall for upper and middle class female passengers. Numbers show that no matter if they traveled with family or not, female passengers in first and second class seems to had the same likelihood to survive. But that is not the case for lower class female passengers, it seems that they had a better chance at survival if they were traveling without any family member.\n",
    "\n",
    "Base on numbers and graphs, we can say that traveling alone did not give a passanger of Titanic a better chance at survival. The opposite seems to be true for male passengers regardless of his socio-economic status. Traveling alone or not didn't seem to affect female passangers chance of survival except for those in third class. A female passenger in third class had a better chance at survival when she traveled alone.  "
   ]
  },
  {
   "cell_type": "markdown",
   "metadata": {},
   "source": [
    "## Q4: Did children (17 year-old or younger) have a better chance of survival?"
   ]
  },
  {
   "cell_type": "markdown",
   "metadata": {},
   "source": [
    "Now let's investigate the survival rate between children and adults, and see whether children had a better chance of survival than adults."
   ]
  },
  {
   "cell_type": "code",
   "execution_count": 253,
   "metadata": {
    "collapsed": false,
    "scrolled": false
   },
   "outputs": [
    {
     "data": {
      "text/html": [
       "<div>\n",
       "<table border=\"1\" class=\"dataframe\">\n",
       "  <thead>\n",
       "    <tr style=\"text-align: right;\">\n",
       "      <th></th>\n",
       "      <th># survived=0</th>\n",
       "      <th># survived=1</th>\n",
       "      <th>survival rate</th>\n",
       "    </tr>\n",
       "    <tr>\n",
       "      <th>AgeGroup</th>\n",
       "      <th></th>\n",
       "      <th></th>\n",
       "      <th></th>\n",
       "    </tr>\n",
       "  </thead>\n",
       "  <tbody>\n",
       "    <tr>\n",
       "      <th>Adult</th>\n",
       "      <td>355</td>\n",
       "      <td>220</td>\n",
       "      <td>0.382609</td>\n",
       "    </tr>\n",
       "    <tr>\n",
       "      <th>Child</th>\n",
       "      <td>69</td>\n",
       "      <td>70</td>\n",
       "      <td>0.503597</td>\n",
       "    </tr>\n",
       "  </tbody>\n",
       "</table>\n",
       "</div>"
      ],
      "text/plain": [
       "          # survived=0  # survived=1  survival rate\n",
       "AgeGroup                                           \n",
       "Adult              355           220       0.382609\n",
       "Child               69            70       0.503597"
      ]
     },
     "execution_count": 253,
     "metadata": {},
     "output_type": "execute_result"
    },
    {
     "data": {
      "image/png": "[encoded data removed]",
      "text/plain": [
       "<matplotlib.figure.Figure at 0xca092b0>"
      ]
     },
     "metadata": {},
     "output_type": "display_data"
    }
   ],
   "source": [
    "# graph - survival rate by ChildP\n",
    "g = sns.factorplot(x=\"AgeGroup\", y=\"Survived\", data=data[data.Age.notnull()], \n",
    "                   saturation=.5, kind=\"bar\", ci=None, size=3, aspect=1.4)\n",
    "\n",
    "# set labels\n",
    "g.set_axis_labels('Child Passenger', 'Survival Rate')\n",
    "\n",
    "# set titles\n",
    "titles = ['Survival Rate by Age Group']\n",
    "for ax, title in zip(g.axes.flat, titles):\n",
    "    ax.set_title(title)\n",
    "\n",
    "\n",
    "# summary - survival rate by ChildP\n",
    "survival_summary(data[data.Age.notnull()], ['AgeGroup', 'Survived'])"
   ]
  },
  {
   "cell_type": "markdown",
   "metadata": {},
   "source": [
    "It does seems that children were more likely to survive than adult passengers with survival rate of 53.98% and 38.10% respectively. But we can also see that children were only 20% of the total passengers with age values. Let see children and adult distribution across socio-economic status."
   ]
  },
  {
   "cell_type": "code",
   "execution_count": 254,
   "metadata": {
    "collapsed": false
   },
   "outputs": [
    {
     "data": {
      "text/html": [
       "<div>\n",
       "<table border=\"1\" class=\"dataframe\">\n",
       "  <thead>\n",
       "    <tr style=\"text-align: right;\">\n",
       "      <th></th>\n",
       "      <th></th>\n",
       "      <th># survived=0</th>\n",
       "      <th># survived=1</th>\n",
       "      <th>survival rate</th>\n",
       "    </tr>\n",
       "    <tr>\n",
       "      <th>Pclass</th>\n",
       "      <th>AgeGroup</th>\n",
       "      <th></th>\n",
       "      <th></th>\n",
       "      <th></th>\n",
       "    </tr>\n",
       "  </thead>\n",
       "  <tbody>\n",
       "    <tr>\n",
       "      <th rowspan=\"2\" valign=\"top\">1</th>\n",
       "      <th>Adult</th>\n",
       "      <td>62</td>\n",
       "      <td>108</td>\n",
       "      <td>0.635294</td>\n",
       "    </tr>\n",
       "    <tr>\n",
       "      <th>Child</th>\n",
       "      <td>2</td>\n",
       "      <td>14</td>\n",
       "      <td>0.875000</td>\n",
       "    </tr>\n",
       "    <tr>\n",
       "      <th rowspan=\"2\" valign=\"top\">2</th>\n",
       "      <th>Adult</th>\n",
       "      <td>84</td>\n",
       "      <td>60</td>\n",
       "      <td>0.416667</td>\n",
       "    </tr>\n",
       "    <tr>\n",
       "      <th>Child</th>\n",
       "      <td>6</td>\n",
       "      <td>23</td>\n",
       "      <td>0.793103</td>\n",
       "    </tr>\n",
       "    <tr>\n",
       "      <th rowspan=\"2\" valign=\"top\">3</th>\n",
       "      <th>Adult</th>\n",
       "      <td>209</td>\n",
       "      <td>52</td>\n",
       "      <td>0.199234</td>\n",
       "    </tr>\n",
       "    <tr>\n",
       "      <th>Child</th>\n",
       "      <td>61</td>\n",
       "      <td>33</td>\n",
       "      <td>0.351064</td>\n",
       "    </tr>\n",
       "  </tbody>\n",
       "</table>\n",
       "</div>"
      ],
      "text/plain": [
       "                 # survived=0  # survived=1  survival rate\n",
       "Pclass AgeGroup                                           \n",
       "1      Adult               62           108       0.635294\n",
       "       Child                2            14       0.875000\n",
       "2      Adult               84            60       0.416667\n",
       "       Child                6            23       0.793103\n",
       "3      Adult              209            52       0.199234\n",
       "       Child               61            33       0.351064"
      ]
     },
     "execution_count": 254,
     "metadata": {},
     "output_type": "execute_result"
    },
    {
     "data": {
      "image/png": "[encoded data removed]",
      "text/plain": [
       "<matplotlib.figure.Figure at 0xb56c8d0>"
      ]
     },
     "metadata": {},
     "output_type": "display_data"
    }
   ],
   "source": [
    "# graph - survival rate by ChildP across socio-economic status\n",
    "g = sns.factorplot(x=\"AgeGroup\", y=\"Survived\", col=\"Pclass\", data=data, \n",
    "                   saturation=.5, kind=\"bar\", ci=None, size=3, aspect=1.4)\n",
    "\n",
    "# set labels\n",
    "g.set_axis_labels('Age Group', 'Survival Rate')\n",
    "plt.subplots_adjust(top=0.9)\n",
    "\n",
    "# set titles\n",
    "titles = ['1st Class', '2nd Class', '3rd Class']\n",
    "for ax, title in zip(g.axes.flat, titles):\n",
    "    ax.set_title(title)\n",
    "    \n",
    "# summary - survival rate by ChildP across socio-economic status\n",
    "survival_summary(data, ['Pclass', 'AgeGroup', 'Survived'])"
   ]
  },
  {
   "cell_type": "markdown",
   "metadata": {},
   "source": [
    "Numbers and graphs above implify our previous finding. Across socio-economic status, children were more likely to survive compare to adult from the same socio-economic status."
   ]
  },
  {
   "cell_type": "markdown",
   "metadata": {},
   "source": [
    "# Testing & Conclusion\n",
    "\n",
    "Base on our analysis during exploration process, we can draw a tentative conclusion that gender, socio-economic status, travel as family, and age group did affect the chance of survival of Titanic passengers. Now we need to test whether the survival outcome of the passenger was dependent on each of these characteristics.\n",
    "\n",
    "## Statistical Testing\n",
    "\n",
    "### Gender\n",
    "\n",
    "##### Hypothesis\n",
    "Null Hypothesis ($H_0$): survival outcome and the gender of the Titanic passengers are independent of each other\n",
    "\n",
    "Alternative Hypothesis ($H_a$): survival outcome and the gender of the Titanic passengers are dependent\n",
    "\n",
    "##### Analysis Plan\n",
    "For this analysis, the significant level is 0.01. Since the two variables under study are categorical and the expected frequency count is more than 5, assuming that the sampling method was simple random sampling, then it is appropriate to perform chi-square test for independence.  \n",
    "\n",
    "##### Chi-Square Analysis"
   ]
  },
  {
   "cell_type": "code",
   "execution_count": 255,
   "metadata": {
    "collapsed": false
   },
   "outputs": [
    {
     "name": "stdout",
     "output_type": "stream",
     "text": [
      "chi-square test statistic (df=1) = 260.717020167\n",
      "p-value = 1.19735706278e-58\n"
     ]
    }
   ],
   "source": [
    "# observed values\n",
    "obs = data.groupby(['Sex', 'Survived']).size().unstack()\n",
    "\n",
    "# chi-square test for independence\n",
    "chi2, p, dof, expected = chi2_contingency(obs)\n",
    "\n",
    "print \"chi-square test statistic (df={}) = {}\".format(dof,chi2)\n",
    "print \"p-value = {}\".format(p)"
   ]
  },
  {
   "cell_type": "markdown",
   "metadata": {},
   "source": [
    "##### Result\n",
    "Since the p-value (0.00) is less than significant level (0.01), we reject the null hypothesis. Thus, we conclude that there is a relationship between gender and survival outcome of the Titanic passengers. \n",
    "\n",
    "### Socio-economic Status\n",
    "\n",
    "##### Hypothesis\n",
    "Null Hypothesis ($H_0$): survival outcome and the socio-economic status of the Titanic passengers are independent of each other\n",
    "\n",
    "Alternative Hypothesis ($H_a$): survival outcome and the socio-economic status of the Titanic passengers are dependent\n",
    "\n",
    "##### Analysis Plan\n",
    "For this analysis, the significant level is 0.01. Since the two variables under study are categorical and the expected frequency count is more than 5, assuming that the sampling method was simple random sampling, then it is appropriate to perform chi-square test for independence.  \n",
    "\n",
    "##### Chi-Square Analysis"
   ]
  },
  {
   "cell_type": "code",
   "execution_count": 256,
   "metadata": {
    "collapsed": false
   },
   "outputs": [
    {
     "name": "stdout",
     "output_type": "stream",
     "text": [
      "chi-square test statistic (df=2, N=891) = 102.888988757\n",
      "p-value = 4.5492517113e-23\n"
     ]
    }
   ],
   "source": [
    "# observed values\n",
    "obs = data.groupby(['Pclass', 'Survived']).size().unstack()\n",
    "\n",
    "# chi-square test for independence\n",
    "chi2, p, dof, expected = chi2_contingency(obs)\n",
    "\n",
    "print \"chi-square test statistic (df={}, N={}) = {}\".format(dof, 891, chi2)\n",
    "print \"p-value = {}\".format(p)"
   ]
  },
  {
   "cell_type": "markdown",
   "metadata": {},
   "source": [
    "##### Result\n",
    "\n",
    "Since the p-value (0.00) is less than significant level (0.01), we reject the null hypothesis. Thus, we conclude that there is a relationship between socio-economic status and survival outcome of the Titanic passengers. \n",
    "\n",
    "### Traveling Alone\n",
    "\n",
    "##### Hypothesis\n",
    "Null Hypothesis ($H_0$): survival outcome and traveling alone status of the Titanic passengers are independent of each other\n",
    "\n",
    "Alternative Hypothesis ($H_a$): survival outcome and traveling alone status of the Titanic passengers are dependent\n",
    "\n",
    "##### Analysis Plan\n",
    "For this analysis, the significant level is 0.01. Since the two variables under study are categorical and the expected frequency count is more than 5, assuming that the sampling method was simple random sampling, then it is appropriate to perform chi-square test for independence.  \n",
    "\n",
    "##### Chi-Square Analysis"
   ]
  },
  {
   "cell_type": "code",
   "execution_count": 257,
   "metadata": {
    "collapsed": false
   },
   "outputs": [
    {
     "name": "stdout",
     "output_type": "stream",
     "text": [
      "chi-square test statistic (df=1) = 36.0005144677\n",
      "p-value = 1.97265438465e-09\n"
     ]
    }
   ],
   "source": [
    "# observed values\n",
    "obs = data.groupby(['Talone', 'Survived']).size().unstack()\n",
    "\n",
    "# chi-square test for independence\n",
    "chi2, p, dof, expected = chi2_contingency(obs)\n",
    "\n",
    "print \"chi-square test statistic (df={}) = {}\".format(dof,chi2)\n",
    "print \"p-value = {}\".format(p)"
   ]
  },
  {
   "cell_type": "markdown",
   "metadata": {},
   "source": [
    "##### Result\n",
    "Since the p-value (0.00) is less than significant level (0.01), we reject the null hypothesis. Thus, we conclude that there is a relationship between traveling alone status and survival outcome of the Titanic passengers. \n",
    "\n",
    "### Age Group\n",
    "\n",
    "##### Hypothesis\n",
    "Null Hypothesis ($H_0$): survival outcome and age group (child or adult) status of the Titanic passengers are independent of each other\n",
    "\n",
    "Alternative Hypothesis ($H_a$): survival outcome and age group (child or adult) status of the Titanic passengers are dependent\n",
    "\n",
    "##### Analysis Plan\n",
    "For this analysis, the significant level is 0.05. Since the two variables under study are categorical and the expected frequency count is more than 5, assuming that the sampling method was simple random sampling, then it is appropriate to perform chi-square test for independence.  \n",
    "\n",
    "##### Chi-Square Analysis\n",
    "Remember that we have missing values for Age, so we have to slice the data to consider only those with age values."
   ]
  },
  {
   "cell_type": "code",
   "execution_count": 258,
   "metadata": {
    "collapsed": false
   },
   "outputs": [
    {
     "name": "stdout",
     "output_type": "stream",
     "text": [
      "chi-square test statistic (df=1) = 6.30131105202\n",
      "p-value = 0.0120648710317\n"
     ]
    }
   ],
   "source": [
    "# observed values\n",
    "obs = data[data.AgeGroup.notnull()].groupby(['AgeGroup', 'Survived']).size().unstack()\n",
    "\n",
    "# chi-square test for independence\n",
    "chi2, p, dof, expected = chi2_contingency(obs)\n",
    "\n",
    "print \"chi-square test statistic (df={}) = {}\".format(dof,chi2)\n",
    "print \"p-value = {}\".format(p)"
   ]
  },
  {
   "cell_type": "markdown",
   "metadata": {},
   "source": [
    "##### Result\n",
    "Since the p-value (0.01) is less than significant level (0.05), we reject the null hypothesis. Thus, we conclude that there is a relationship between age group status (whether a passenger was a child or an adult) and survival outcome of the Titanic passengers.\n",
    "\n",
    "## Conclusion\n",
    "\n",
    "* A chi-square test with significant level $\\alpha = .01$ was performed and a relationship was found between gender and survival outcome of the Titanic passengers, $\\chi^2(1, N=891)=260.72$, $p < .01$\n",
    "* A chi-square test with significant level $\\alpha = .01$ was performed and a relationship was found between socio-economic status and survival outcome of the Titanic passengers, $\\chi^2(2, N=891)=102.89$, $p < .01$\n",
    "* A chi-square test with significant level $\\alpha = .01$ was performed and a relationship was found between traveling alone (without any family member) and survival outcome of the Titanic passengers, $\\chi^2(1, N=891)=36.0$, $p < .01$\n",
    "* A chi-square test with significant level $\\alpha = .05$ was performed and a relationship was found between age group (children 18 years old or younger, and adult) and survival outcome of the Titanic passengers, $\\chi^2(1, N=714)=6.30$, $p = .01$"
   ]
  },
  {
   "cell_type": "markdown",
   "metadata": {},
   "source": [
    "## References\n",
    "* http://seaborn.pydata.org/tutorial/categorical.html\n",
    "* http://stackoverflow.com/questions/24789671/change-the-title-of-factor-plot-in-seaborn\n",
    "* http://www.secnetix.de/olli/Python/lambda_functions.hawk\n",
    "* http://www.history.com/topics/titanic\n",
    "* http://www.titanicfacts.net/titanic-survivors.html\n",
    "* https://www.encyclopedia-titanica.org/titanic-survivors/"
   ]
  }
 ],
 "metadata": {
  "anaconda-cloud": {},
  "kernelspec": {
   "display_name": "Python [conda env:DAND]",
   "language": "python",
   "name": "conda-env-DAND-py"
  },
  "language_info": {
   "codemirror_mode": {
    "name": "ipython",
    "version": 2
   },
   "file_extension": ".py",
   "mimetype": "text/x-python",
   "name": "python",
   "nbconvert_exporter": "python",
   "pygments_lexer": "ipython2",
   "version": "2.7.12"
  }
 },
 "nbformat": 4,
 "nbformat_minor": 2
}
